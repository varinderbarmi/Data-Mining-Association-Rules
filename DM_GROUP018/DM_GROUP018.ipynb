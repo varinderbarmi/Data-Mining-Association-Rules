{
 "cells":[
  {
   "cell_type":"markdown",
   "source":[
    "# Loading and Cleaning Dataset"
   ],
   "attachments":{
    
   },
   "metadata":{
    "datalore":{
     "sheet_delimiter":true
    }
   }
  },
  {
   "cell_type":"markdown",
   "source":[
    "<h1>Installing libraries<\/h1>"
   ],
   "attachments":{
    
   },
   "metadata":{
    "datalore":{
     "type":"MD",
     "hide_input_from_viewers":false,
     "hide_output_from_viewers":false,
     "node_id":"hVPqWUf7fzhnL4MJnToBFR"
    }
   }
  },
  {
   "cell_type":"code",
   "source":[
    "!pip install mlxtend\n",
    "!pip install tabulate"
   ],
   "execution_count":35,
   "outputs":[
    {
     "name":"stdout",
     "text":[
      "Requirement already satisfied: mlxtend in \/opt\/python\/envs\/default\/lib\/python3.8\/site-packages (0.19.0)\r\n",
      "Requirement already satisfied: pandas>=0.24.2 in \/opt\/python\/envs\/default\/lib\/python3.8\/site-packages (from mlxtend) (1.3.5)\r\n",
      "Requirement already satisfied: joblib>=0.13.2 in \/opt\/python\/envs\/default\/lib\/python3.8\/site-packages (from mlxtend) (1.1.0)\r\n",
      "Requirement already satisfied: scikit-learn>=0.20.3 in \/opt\/python\/envs\/default\/lib\/python3.8\/site-packages (from mlxtend) (1.0.1)\r\n",
      "Requirement already satisfied: numpy>=1.16.2 in \/opt\/python\/envs\/default\/lib\/python3.8\/site-packages (from mlxtend) (1.21.5)\r\n",
      "Requirement already satisfied: scipy>=1.2.1 in \/opt\/python\/envs\/default\/lib\/python3.8\/site-packages (from mlxtend) (1.7.3)\r\n",
      "Requirement already satisfied: matplotlib>=3.0.0 in \/opt\/python\/envs\/default\/lib\/python3.8\/site-packages (from mlxtend) (3.5.1)\r\n",
      "Requirement already satisfied: setuptools in \/opt\/python\/envs\/default\/lib\/python3.8\/site-packages (from mlxtend) (56.0.0)\r\n",
      "Requirement already satisfied: python-dateutil>=2.7 in \/opt\/python\/envs\/default\/lib\/python3.8\/site-packages (from matplotlib>=3.0.0->mlxtend) (2.8.2)\r\n",
      "Requirement already satisfied: pyparsing>=2.2.1 in \/opt\/python\/envs\/default\/lib\/python3.8\/site-packages (from matplotlib>=3.0.0->mlxtend) (3.0.7)\r\n",
      "Requirement already satisfied: fonttools>=4.22.0 in \/opt\/python\/envs\/default\/lib\/python3.8\/site-packages (from matplotlib>=3.0.0->mlxtend) (4.29.1)\r\n",
      "Requirement already satisfied: packaging>=20.0 in \/opt\/python\/envs\/default\/lib\/python3.8\/site-packages (from matplotlib>=3.0.0->mlxtend) (21.3)\r\n",
      "Requirement already satisfied: pillow>=6.2.0 in \/opt\/python\/envs\/default\/lib\/python3.8\/site-packages (from matplotlib>=3.0.0->mlxtend) (9.0.1)\r\n",
      "Requirement already satisfied: cycler>=0.10 in \/opt\/python\/envs\/default\/lib\/python3.8\/site-packages (from matplotlib>=3.0.0->mlxtend) (0.11.0)\r\n",
      "Requirement already satisfied: kiwisolver>=1.0.1 in \/opt\/python\/envs\/default\/lib\/python3.8\/site-packages (from matplotlib>=3.0.0->mlxtend) (1.3.2)\r\n",
      "Requirement already satisfied: pytz>=2017.3 in \/opt\/python\/envs\/default\/lib\/python3.8\/site-packages (from pandas>=0.24.2->mlxtend) (2021.3)\r\n",
      "Requirement already satisfied: threadpoolctl>=2.0.0 in \/opt\/python\/envs\/default\/lib\/python3.8\/site-packages (from scikit-learn>=0.20.3->mlxtend) (3.1.0)\r\n",
      "Requirement already satisfied: six>=1.5 in \/opt\/python\/envs\/default\/lib\/python3.8\/site-packages (from python-dateutil>=2.7->matplotlib>=3.0.0->mlxtend) (1.16.0)\r\n",
      "\u001b[33mWARNING: You are using pip version 21.3.1; however, version 22.0.4 is available.\r\n",
      "You should consider upgrading via the '\/opt\/python\/envs\/default\/bin\/python -m pip install --upgrade pip' command.\u001b[0m\r\n",
      "Requirement already satisfied: tabulate in \/opt\/python\/envs\/default\/lib\/python3.8\/site-packages (0.8.9)\r\n",
      "\u001b[33mWARNING: You are using pip version 21.3.1; however, version 22.0.4 is available.\r\n",
      "You should consider upgrading via the '\/opt\/python\/envs\/default\/bin\/python -m pip install --upgrade pip' command.\u001b[0m\r\n"
     ],
     "output_type":"stream"
    }
   ],
   "metadata":{
    "datalore":{
     "type":"CODE",
     "hide_input_from_viewers":false,
     "hide_output_from_viewers":false,
     "node_id":"vdswgTPYxMdJz6yvbyncGd"
    }
   }
  },
  {
   "cell_type":"markdown",
   "source":[
    "<h1>Importing the Libraries<\/h1>"
   ],
   "attachments":{
    
   },
   "metadata":{
    "datalore":{
     "type":"MD",
     "hide_input_from_viewers":false,
     "hide_output_from_viewers":false,
     "node_id":"LWPC71IrcSJtB3WZHTPGeT"
    }
   }
  },
  {
   "cell_type":"code",
   "source":[
    "import pandas as pd \n",
    "import seaborn as sns\n",
    "from mlxtend.preprocessing import TransactionEncoder\n",
    "from mlxtend.frequent_patterns import apriori, association_rules "
   ],
   "execution_count":36,
   "outputs":[
    
   ],
   "metadata":{
    "datalore":{
     "type":"CODE",
     "hide_input_from_viewers":false,
     "hide_output_from_viewers":false,
     "node_id":"hnhywp4vxgP0ucFuNOSnoK"
    }
   }
  },
  {
   "cell_type":"markdown",
   "source":[
    "<h1> Ingesting the Data from the csv file --> Employee_skills_traits.csv <\/h1>\n"
   ],
   "attachments":{
    
   },
   "metadata":{
    "datalore":{
     "type":"MD",
     "hide_input_from_viewers":false,
     "hide_output_from_viewers":false,
     "node_id":"ldjk3lc3G17B0txrTCBesU"
    }
   }
  },
  {
   "cell_type":"code",
   "source":[
    "df_input_file = pd.read_csv(\"Employee_skills_traits.csv\", header = 0)\n",
    "df_input_file"
   ],
   "execution_count":37,
   "outputs":[
    {
     "data":{
      "text\/html":[
       "<div>\n",
       "<style scoped>\n",
       "    .dataframe tbody tr th:only-of-type {\n",
       "        vertical-align: middle;\n",
       "    }\n",
       "\n",
       "    .dataframe tbody tr th {\n",
       "        vertical-align: top;\n",
       "    }\n",
       "\n",
       "    .dataframe thead th {\n",
       "        text-align: right;\n",
       "    }\n",
       "<\/style>\n",
       "<table border=\"1\" class=\"dataframe\">\n",
       "  <thead>\n",
       "    <tr style=\"text-align: right;\">\n",
       "      <th><\/th>\n",
       "      <th>ID<\/th>\n",
       "      <th>Employment period<\/th>\n",
       "      <th>Time in current department<\/th>\n",
       "      <th>Gender<\/th>\n",
       "      <th>Team leader<\/th>\n",
       "      <th>Age<\/th>\n",
       "      <th>Member of professional organizations<\/th>\n",
       "      <th>.Net<\/th>\n",
       "      <th>SQL Server<\/th>\n",
       "      <th>HTML CSS Java Script<\/th>\n",
       "      <th>PHP mySQL<\/th>\n",
       "      <th>Fast working<\/th>\n",
       "      <th>Awards<\/th>\n",
       "      <th>Communicative<\/th>\n",
       "    <\/tr>\n",
       "  <\/thead>\n",
       "  <tbody>\n",
       "    <tr>\n",
       "      <th>0<\/th>\n",
       "      <td>6723<\/td>\n",
       "      <td>5<\/td>\n",
       "      <td>4<\/td>\n",
       "      <td>0<\/td>\n",
       "      <td>1<\/td>\n",
       "      <td>48<\/td>\n",
       "      <td>1<\/td>\n",
       "      <td>1<\/td>\n",
       "      <td>1<\/td>\n",
       "      <td>0<\/td>\n",
       "      <td>1<\/td>\n",
       "      <td>1<\/td>\n",
       "      <td>0<\/td>\n",
       "      <td>1<\/td>\n",
       "    <\/tr>\n",
       "    <tr>\n",
       "      <th>1<\/th>\n",
       "      <td>8923<\/td>\n",
       "      <td>5<\/td>\n",
       "      <td>3<\/td>\n",
       "      <td>1<\/td>\n",
       "      <td>1<\/td>\n",
       "      <td>26<\/td>\n",
       "      <td>1<\/td>\n",
       "      <td>1<\/td>\n",
       "      <td>0<\/td>\n",
       "      <td>0<\/td>\n",
       "      <td>1<\/td>\n",
       "      <td>1<\/td>\n",
       "      <td>0<\/td>\n",
       "      <td>0<\/td>\n",
       "    <\/tr>\n",
       "    <tr>\n",
       "      <th>2<\/th>\n",
       "      <td>2322<\/td>\n",
       "      <td>11<\/td>\n",
       "      <td>8<\/td>\n",
       "      <td>0<\/td>\n",
       "      <td>0<\/td>\n",
       "      <td>34<\/td>\n",
       "      <td>0<\/td>\n",
       "      <td>0<\/td>\n",
       "      <td>1<\/td>\n",
       "      <td>1<\/td>\n",
       "      <td>0<\/td>\n",
       "      <td>1<\/td>\n",
       "      <td>0<\/td>\n",
       "      <td>1<\/td>\n",
       "    <\/tr>\n",
       "    <tr>\n",
       "      <th>3<\/th>\n",
       "      <td>235<\/td>\n",
       "      <td>7<\/td>\n",
       "      <td>5<\/td>\n",
       "      <td>1<\/td>\n",
       "      <td>1<\/td>\n",
       "      <td>27<\/td>\n",
       "      <td>1<\/td>\n",
       "      <td>0<\/td>\n",
       "      <td>1<\/td>\n",
       "      <td>0<\/td>\n",
       "      <td>1<\/td>\n",
       "      <td>1<\/td>\n",
       "      <td>1<\/td>\n",
       "      <td>0<\/td>\n",
       "    <\/tr>\n",
       "    <tr>\n",
       "      <th>4<\/th>\n",
       "      <td>9523<\/td>\n",
       "      <td>18<\/td>\n",
       "      <td>8<\/td>\n",
       "      <td>0<\/td>\n",
       "      <td>0<\/td>\n",
       "      <td>38<\/td>\n",
       "      <td>0<\/td>\n",
       "      <td>0<\/td>\n",
       "      <td>0<\/td>\n",
       "      <td>1<\/td>\n",
       "      <td>1<\/td>\n",
       "      <td>1<\/td>\n",
       "      <td>1<\/td>\n",
       "      <td>1<\/td>\n",
       "    <\/tr>\n",
       "    <tr>\n",
       "      <th>...<\/th>\n",
       "      <td>...<\/td>\n",
       "      <td>...<\/td>\n",
       "      <td>...<\/td>\n",
       "      <td>...<\/td>\n",
       "      <td>...<\/td>\n",
       "      <td>...<\/td>\n",
       "      <td>...<\/td>\n",
       "      <td>...<\/td>\n",
       "      <td>...<\/td>\n",
       "      <td>...<\/td>\n",
       "      <td>...<\/td>\n",
       "      <td>...<\/td>\n",
       "      <td>...<\/td>\n",
       "      <td>...<\/td>\n",
       "    <\/tr>\n",
       "    <tr>\n",
       "      <th>993<\/th>\n",
       "      <td>6098<\/td>\n",
       "      <td>12<\/td>\n",
       "      <td>3<\/td>\n",
       "      <td>1<\/td>\n",
       "      <td>1<\/td>\n",
       "      <td>32<\/td>\n",
       "      <td>1<\/td>\n",
       "      <td>0<\/td>\n",
       "      <td>0<\/td>\n",
       "      <td>0<\/td>\n",
       "      <td>1<\/td>\n",
       "      <td>1<\/td>\n",
       "      <td>0<\/td>\n",
       "      <td>1<\/td>\n",
       "    <\/tr>\n",
       "    <tr>\n",
       "      <th>994<\/th>\n",
       "      <td>12133<\/td>\n",
       "      <td>16<\/td>\n",
       "      <td>8<\/td>\n",
       "      <td>1<\/td>\n",
       "      <td>0<\/td>\n",
       "      <td>36<\/td>\n",
       "      <td>1<\/td>\n",
       "      <td>1<\/td>\n",
       "      <td>1<\/td>\n",
       "      <td>0<\/td>\n",
       "      <td>0<\/td>\n",
       "      <td>0<\/td>\n",
       "      <td>1<\/td>\n",
       "      <td>1<\/td>\n",
       "    <\/tr>\n",
       "    <tr>\n",
       "      <th>995<\/th>\n",
       "      <td>854<\/td>\n",
       "      <td>11<\/td>\n",
       "      <td>4<\/td>\n",
       "      <td>0<\/td>\n",
       "      <td>1<\/td>\n",
       "      <td>34<\/td>\n",
       "      <td>1<\/td>\n",
       "      <td>0<\/td>\n",
       "      <td>1<\/td>\n",
       "      <td>0<\/td>\n",
       "      <td>1<\/td>\n",
       "      <td>1<\/td>\n",
       "      <td>0<\/td>\n",
       "      <td>0<\/td>\n",
       "    <\/tr>\n",
       "    <tr>\n",
       "      <th>996<\/th>\n",
       "      <td>13444<\/td>\n",
       "      <td>8<\/td>\n",
       "      <td>8<\/td>\n",
       "      <td>1<\/td>\n",
       "      <td>0<\/td>\n",
       "      <td>36<\/td>\n",
       "      <td>0<\/td>\n",
       "      <td>0<\/td>\n",
       "      <td>1<\/td>\n",
       "      <td>0<\/td>\n",
       "      <td>0<\/td>\n",
       "      <td>0<\/td>\n",
       "      <td>1<\/td>\n",
       "      <td>1<\/td>\n",
       "    <\/tr>\n",
       "    <tr>\n",
       "      <th>997<\/th>\n",
       "      <td>17170<\/td>\n",
       "      <td>16<\/td>\n",
       "      <td>6<\/td>\n",
       "      <td>1<\/td>\n",
       "      <td>1<\/td>\n",
       "      <td>44<\/td>\n",
       "      <td>0<\/td>\n",
       "      <td>1<\/td>\n",
       "      <td>0<\/td>\n",
       "      <td>1<\/td>\n",
       "      <td>1<\/td>\n",
       "      <td>1<\/td>\n",
       "      <td>0<\/td>\n",
       "      <td>0<\/td>\n",
       "    <\/tr>\n",
       "  <\/tbody>\n",
       "<\/table>\n",
       "<p>998 rows × 14 columns<\/p>\n",
       "<\/div>"
      ]
     },
     "metadata":{
      
     },
     "output_type":"display_data"
    }
   ],
   "metadata":{
    "datalore":{
     "type":"CODE",
     "hide_input_from_viewers":false,
     "hide_output_from_viewers":false,
     "node_id":"lJPgiiUtnlrl96FVCI0XpW"
    }
   }
  },
  {
   "cell_type":"markdown",
   "source":[
    "<h1>Removing the duplicates from the dataset<\/h1>\n"
   ],
   "attachments":{
    
   },
   "metadata":{
    "datalore":{
     "type":"MD",
     "hide_input_from_viewers":false,
     "hide_output_from_viewers":false,
     "node_id":"Z7D3hBYqs8S6yC5zhp2zVu"
    }
   }
  },
  {
   "cell_type":"code",
   "source":[
    "#Removing Duplilcate and considers considers last value as unique and rest of the same values as duplicate.\n",
    "df_input_file.drop_duplicates(subset='ID', keep='last', inplace=True)\n",
    "df_input_file"
   ],
   "execution_count":38,
   "outputs":[
    {
     "data":{
      "text\/html":[
       "<div>\n",
       "<style scoped>\n",
       "    .dataframe tbody tr th:only-of-type {\n",
       "        vertical-align: middle;\n",
       "    }\n",
       "\n",
       "    .dataframe tbody tr th {\n",
       "        vertical-align: top;\n",
       "    }\n",
       "\n",
       "    .dataframe thead th {\n",
       "        text-align: right;\n",
       "    }\n",
       "<\/style>\n",
       "<table border=\"1\" class=\"dataframe\">\n",
       "  <thead>\n",
       "    <tr style=\"text-align: right;\">\n",
       "      <th><\/th>\n",
       "      <th>ID<\/th>\n",
       "      <th>Employment period<\/th>\n",
       "      <th>Time in current department<\/th>\n",
       "      <th>Gender<\/th>\n",
       "      <th>Team leader<\/th>\n",
       "      <th>Age<\/th>\n",
       "      <th>Member of professional organizations<\/th>\n",
       "      <th>.Net<\/th>\n",
       "      <th>SQL Server<\/th>\n",
       "      <th>HTML CSS Java Script<\/th>\n",
       "      <th>PHP mySQL<\/th>\n",
       "      <th>Fast working<\/th>\n",
       "      <th>Awards<\/th>\n",
       "      <th>Communicative<\/th>\n",
       "    <\/tr>\n",
       "  <\/thead>\n",
       "  <tbody>\n",
       "    <tr>\n",
       "      <th>0<\/th>\n",
       "      <td>6723<\/td>\n",
       "      <td>5<\/td>\n",
       "      <td>4<\/td>\n",
       "      <td>0<\/td>\n",
       "      <td>1<\/td>\n",
       "      <td>48<\/td>\n",
       "      <td>1<\/td>\n",
       "      <td>1<\/td>\n",
       "      <td>1<\/td>\n",
       "      <td>0<\/td>\n",
       "      <td>1<\/td>\n",
       "      <td>1<\/td>\n",
       "      <td>0<\/td>\n",
       "      <td>1<\/td>\n",
       "    <\/tr>\n",
       "    <tr>\n",
       "      <th>1<\/th>\n",
       "      <td>8923<\/td>\n",
       "      <td>5<\/td>\n",
       "      <td>3<\/td>\n",
       "      <td>1<\/td>\n",
       "      <td>1<\/td>\n",
       "      <td>26<\/td>\n",
       "      <td>1<\/td>\n",
       "      <td>1<\/td>\n",
       "      <td>0<\/td>\n",
       "      <td>0<\/td>\n",
       "      <td>1<\/td>\n",
       "      <td>1<\/td>\n",
       "      <td>0<\/td>\n",
       "      <td>0<\/td>\n",
       "    <\/tr>\n",
       "    <tr>\n",
       "      <th>2<\/th>\n",
       "      <td>2322<\/td>\n",
       "      <td>11<\/td>\n",
       "      <td>8<\/td>\n",
       "      <td>0<\/td>\n",
       "      <td>0<\/td>\n",
       "      <td>34<\/td>\n",
       "      <td>0<\/td>\n",
       "      <td>0<\/td>\n",
       "      <td>1<\/td>\n",
       "      <td>1<\/td>\n",
       "      <td>0<\/td>\n",
       "      <td>1<\/td>\n",
       "      <td>0<\/td>\n",
       "      <td>1<\/td>\n",
       "    <\/tr>\n",
       "    <tr>\n",
       "      <th>3<\/th>\n",
       "      <td>235<\/td>\n",
       "      <td>7<\/td>\n",
       "      <td>5<\/td>\n",
       "      <td>1<\/td>\n",
       "      <td>1<\/td>\n",
       "      <td>27<\/td>\n",
       "      <td>1<\/td>\n",
       "      <td>0<\/td>\n",
       "      <td>1<\/td>\n",
       "      <td>0<\/td>\n",
       "      <td>1<\/td>\n",
       "      <td>1<\/td>\n",
       "      <td>1<\/td>\n",
       "      <td>0<\/td>\n",
       "    <\/tr>\n",
       "    <tr>\n",
       "      <th>4<\/th>\n",
       "      <td>9523<\/td>\n",
       "      <td>18<\/td>\n",
       "      <td>8<\/td>\n",
       "      <td>0<\/td>\n",
       "      <td>0<\/td>\n",
       "      <td>38<\/td>\n",
       "      <td>0<\/td>\n",
       "      <td>0<\/td>\n",
       "      <td>0<\/td>\n",
       "      <td>1<\/td>\n",
       "      <td>1<\/td>\n",
       "      <td>1<\/td>\n",
       "      <td>1<\/td>\n",
       "      <td>1<\/td>\n",
       "    <\/tr>\n",
       "    <tr>\n",
       "      <th>...<\/th>\n",
       "      <td>...<\/td>\n",
       "      <td>...<\/td>\n",
       "      <td>...<\/td>\n",
       "      <td>...<\/td>\n",
       "      <td>...<\/td>\n",
       "      <td>...<\/td>\n",
       "      <td>...<\/td>\n",
       "      <td>...<\/td>\n",
       "      <td>...<\/td>\n",
       "      <td>...<\/td>\n",
       "      <td>...<\/td>\n",
       "      <td>...<\/td>\n",
       "      <td>...<\/td>\n",
       "      <td>...<\/td>\n",
       "    <\/tr>\n",
       "    <tr>\n",
       "      <th>993<\/th>\n",
       "      <td>6098<\/td>\n",
       "      <td>12<\/td>\n",
       "      <td>3<\/td>\n",
       "      <td>1<\/td>\n",
       "      <td>1<\/td>\n",
       "      <td>32<\/td>\n",
       "      <td>1<\/td>\n",
       "      <td>0<\/td>\n",
       "      <td>0<\/td>\n",
       "      <td>0<\/td>\n",
       "      <td>1<\/td>\n",
       "      <td>1<\/td>\n",
       "      <td>0<\/td>\n",
       "      <td>1<\/td>\n",
       "    <\/tr>\n",
       "    <tr>\n",
       "      <th>994<\/th>\n",
       "      <td>12133<\/td>\n",
       "      <td>16<\/td>\n",
       "      <td>8<\/td>\n",
       "      <td>1<\/td>\n",
       "      <td>0<\/td>\n",
       "      <td>36<\/td>\n",
       "      <td>1<\/td>\n",
       "      <td>1<\/td>\n",
       "      <td>1<\/td>\n",
       "      <td>0<\/td>\n",
       "      <td>0<\/td>\n",
       "      <td>0<\/td>\n",
       "      <td>1<\/td>\n",
       "      <td>1<\/td>\n",
       "    <\/tr>\n",
       "    <tr>\n",
       "      <th>995<\/th>\n",
       "      <td>854<\/td>\n",
       "      <td>11<\/td>\n",
       "      <td>4<\/td>\n",
       "      <td>0<\/td>\n",
       "      <td>1<\/td>\n",
       "      <td>34<\/td>\n",
       "      <td>1<\/td>\n",
       "      <td>0<\/td>\n",
       "      <td>1<\/td>\n",
       "      <td>0<\/td>\n",
       "      <td>1<\/td>\n",
       "      <td>1<\/td>\n",
       "      <td>0<\/td>\n",
       "      <td>0<\/td>\n",
       "    <\/tr>\n",
       "    <tr>\n",
       "      <th>996<\/th>\n",
       "      <td>13444<\/td>\n",
       "      <td>8<\/td>\n",
       "      <td>8<\/td>\n",
       "      <td>1<\/td>\n",
       "      <td>0<\/td>\n",
       "      <td>36<\/td>\n",
       "      <td>0<\/td>\n",
       "      <td>0<\/td>\n",
       "      <td>1<\/td>\n",
       "      <td>0<\/td>\n",
       "      <td>0<\/td>\n",
       "      <td>0<\/td>\n",
       "      <td>1<\/td>\n",
       "      <td>1<\/td>\n",
       "    <\/tr>\n",
       "    <tr>\n",
       "      <th>997<\/th>\n",
       "      <td>17170<\/td>\n",
       "      <td>16<\/td>\n",
       "      <td>6<\/td>\n",
       "      <td>1<\/td>\n",
       "      <td>1<\/td>\n",
       "      <td>44<\/td>\n",
       "      <td>0<\/td>\n",
       "      <td>1<\/td>\n",
       "      <td>0<\/td>\n",
       "      <td>1<\/td>\n",
       "      <td>1<\/td>\n",
       "      <td>1<\/td>\n",
       "      <td>0<\/td>\n",
       "      <td>0<\/td>\n",
       "    <\/tr>\n",
       "  <\/tbody>\n",
       "<\/table>\n",
       "<p>974 rows × 14 columns<\/p>\n",
       "<\/div>"
      ]
     },
     "metadata":{
      
     },
     "output_type":"display_data"
    }
   ],
   "metadata":{
    "datalore":{
     "type":"CODE",
     "hide_input_from_viewers":false,
     "hide_output_from_viewers":false,
     "node_id":"KRmpWHicQHeBbISqRqLNss"
    }
   }
  },
  {
   "cell_type":"code",
   "source":[
    "df_input_file.columns"
   ],
   "execution_count":39,
   "outputs":[
    {
     "data":{
      "text\/plain":[
       "Index(['ID', 'Employment period ', 'Time in current department ', 'Gender ',\n",
       "       'Team leader ', 'Age ', 'Member of professional organizations ',\n",
       "       '.Net ', 'SQL Server ', 'HTML CSS Java Script ', 'PHP mySQL ',\n",
       "       'Fast working', 'Awards', 'Communicative '],\n",
       "      dtype='object')"
      ]
     },
     "metadata":{
      
     },
     "output_type":"display_data"
    }
   ],
   "metadata":{
    "datalore":{
     "type":"CODE",
     "hide_input_from_viewers":false,
     "hide_output_from_viewers":false,
     "node_id":"MUjrCnvhUyugmfNyEJLneX"
    }
   }
  },
  {
   "cell_type":"code",
   "source":[
    "df_input_file.info()"
   ],
   "execution_count":40,
   "outputs":[
    {
     "name":"stdout",
     "text":[
      "<class 'pandas.core.frame.DataFrame'>\n",
      "Int64Index: 974 entries, 0 to 997\n",
      "Data columns (total 14 columns):\n",
      " #   Column                                 Non-Null Count  Dtype\n",
      "---  ------                                 --------------  -----\n",
      " 0   ID                                     974 non-null    int64\n",
      " 1   Employment period                      974 non-null    int64\n",
      " 2   Time in current department             974 non-null    int64\n",
      " 3   Gender                                 974 non-null    int64\n",
      " 4   Team leader                            974 non-null    int64\n",
      " 5   Age                                    974 non-null    int64\n",
      " 6   Member of professional organizations   974 non-null    int64\n",
      " 7   .Net                                   974 non-null    int64\n",
      " 8   SQL Server                             974 non-null    int64\n",
      " 9   HTML CSS Java Script                   974 non-null    int64\n",
      " 10  PHP mySQL                              974 non-null    int64\n",
      " 11  Fast working                           974 non-null    int64\n",
      " 12  Awards                                 974 non-null    int64\n",
      " 13  Communicative                          974 non-null    int64\n",
      "dtypes: int64(14)\n",
      "memory usage: 114.1 KB\n"
     ],
     "output_type":"stream"
    }
   ],
   "metadata":{
    "datalore":{
     "type":"CODE",
     "hide_input_from_viewers":false,
     "hide_output_from_viewers":false,
     "node_id":"RQr2n6oOJoLfpmgOBoYMFQ"
    }
   }
  },
  {
   "cell_type":"code",
   "source":[
    "print(df_input_file.isnull().sum())"
   ],
   "execution_count":41,
   "outputs":[
    {
     "name":"stdout",
     "text":[
      "ID                                       0\n",
      "Employment period                        0\n",
      "Time in current department               0\n",
      "Gender                                   0\n",
      "Team leader                              0\n",
      "Age                                      0\n",
      "Member of professional organizations     0\n",
      ".Net                                     0\n",
      "SQL Server                               0\n",
      "HTML CSS Java Script                     0\n",
      "PHP mySQL                                0\n",
      "Fast working                             0\n",
      "Awards                                   0\n",
      "Communicative                            0\n",
      "dtype: int64\n"
     ],
     "output_type":"stream"
    }
   ],
   "metadata":{
    "datalore":{
     "type":"CODE",
     "hide_input_from_viewers":false,
     "hide_output_from_viewers":false,
     "node_id":"Rort4WngUVYEudz9G4kujM"
    }
   }
  },
  {
   "cell_type":"code",
   "source":[
    "#Drop the row with Nan\n",
    "df_input_file = df_input_file.dropna()"
   ],
   "execution_count":42,
   "outputs":[
    
   ],
   "metadata":{
    "datalore":{
     "type":"CODE",
     "hide_input_from_viewers":false,
     "hide_output_from_viewers":false,
     "node_id":"axmDRIddEXWqfjaW3yJfAJ"
    }
   }
  },
  {
   "cell_type":"code",
   "source":[
    "df_input_file"
   ],
   "execution_count":43,
   "outputs":[
    {
     "data":{
      "text\/html":[
       "<div>\n",
       "<style scoped>\n",
       "    .dataframe tbody tr th:only-of-type {\n",
       "        vertical-align: middle;\n",
       "    }\n",
       "\n",
       "    .dataframe tbody tr th {\n",
       "        vertical-align: top;\n",
       "    }\n",
       "\n",
       "    .dataframe thead th {\n",
       "        text-align: right;\n",
       "    }\n",
       "<\/style>\n",
       "<table border=\"1\" class=\"dataframe\">\n",
       "  <thead>\n",
       "    <tr style=\"text-align: right;\">\n",
       "      <th><\/th>\n",
       "      <th>ID<\/th>\n",
       "      <th>Employment period<\/th>\n",
       "      <th>Time in current department<\/th>\n",
       "      <th>Gender<\/th>\n",
       "      <th>Team leader<\/th>\n",
       "      <th>Age<\/th>\n",
       "      <th>Member of professional organizations<\/th>\n",
       "      <th>.Net<\/th>\n",
       "      <th>SQL Server<\/th>\n",
       "      <th>HTML CSS Java Script<\/th>\n",
       "      <th>PHP mySQL<\/th>\n",
       "      <th>Fast working<\/th>\n",
       "      <th>Awards<\/th>\n",
       "      <th>Communicative<\/th>\n",
       "    <\/tr>\n",
       "  <\/thead>\n",
       "  <tbody>\n",
       "    <tr>\n",
       "      <th>0<\/th>\n",
       "      <td>6723<\/td>\n",
       "      <td>5<\/td>\n",
       "      <td>4<\/td>\n",
       "      <td>0<\/td>\n",
       "      <td>1<\/td>\n",
       "      <td>48<\/td>\n",
       "      <td>1<\/td>\n",
       "      <td>1<\/td>\n",
       "      <td>1<\/td>\n",
       "      <td>0<\/td>\n",
       "      <td>1<\/td>\n",
       "      <td>1<\/td>\n",
       "      <td>0<\/td>\n",
       "      <td>1<\/td>\n",
       "    <\/tr>\n",
       "    <tr>\n",
       "      <th>1<\/th>\n",
       "      <td>8923<\/td>\n",
       "      <td>5<\/td>\n",
       "      <td>3<\/td>\n",
       "      <td>1<\/td>\n",
       "      <td>1<\/td>\n",
       "      <td>26<\/td>\n",
       "      <td>1<\/td>\n",
       "      <td>1<\/td>\n",
       "      <td>0<\/td>\n",
       "      <td>0<\/td>\n",
       "      <td>1<\/td>\n",
       "      <td>1<\/td>\n",
       "      <td>0<\/td>\n",
       "      <td>0<\/td>\n",
       "    <\/tr>\n",
       "    <tr>\n",
       "      <th>2<\/th>\n",
       "      <td>2322<\/td>\n",
       "      <td>11<\/td>\n",
       "      <td>8<\/td>\n",
       "      <td>0<\/td>\n",
       "      <td>0<\/td>\n",
       "      <td>34<\/td>\n",
       "      <td>0<\/td>\n",
       "      <td>0<\/td>\n",
       "      <td>1<\/td>\n",
       "      <td>1<\/td>\n",
       "      <td>0<\/td>\n",
       "      <td>1<\/td>\n",
       "      <td>0<\/td>\n",
       "      <td>1<\/td>\n",
       "    <\/tr>\n",
       "    <tr>\n",
       "      <th>3<\/th>\n",
       "      <td>235<\/td>\n",
       "      <td>7<\/td>\n",
       "      <td>5<\/td>\n",
       "      <td>1<\/td>\n",
       "      <td>1<\/td>\n",
       "      <td>27<\/td>\n",
       "      <td>1<\/td>\n",
       "      <td>0<\/td>\n",
       "      <td>1<\/td>\n",
       "      <td>0<\/td>\n",
       "      <td>1<\/td>\n",
       "      <td>1<\/td>\n",
       "      <td>1<\/td>\n",
       "      <td>0<\/td>\n",
       "    <\/tr>\n",
       "    <tr>\n",
       "      <th>4<\/th>\n",
       "      <td>9523<\/td>\n",
       "      <td>18<\/td>\n",
       "      <td>8<\/td>\n",
       "      <td>0<\/td>\n",
       "      <td>0<\/td>\n",
       "      <td>38<\/td>\n",
       "      <td>0<\/td>\n",
       "      <td>0<\/td>\n",
       "      <td>0<\/td>\n",
       "      <td>1<\/td>\n",
       "      <td>1<\/td>\n",
       "      <td>1<\/td>\n",
       "      <td>1<\/td>\n",
       "      <td>1<\/td>\n",
       "    <\/tr>\n",
       "    <tr>\n",
       "      <th>...<\/th>\n",
       "      <td>...<\/td>\n",
       "      <td>...<\/td>\n",
       "      <td>...<\/td>\n",
       "      <td>...<\/td>\n",
       "      <td>...<\/td>\n",
       "      <td>...<\/td>\n",
       "      <td>...<\/td>\n",
       "      <td>...<\/td>\n",
       "      <td>...<\/td>\n",
       "      <td>...<\/td>\n",
       "      <td>...<\/td>\n",
       "      <td>...<\/td>\n",
       "      <td>...<\/td>\n",
       "      <td>...<\/td>\n",
       "    <\/tr>\n",
       "    <tr>\n",
       "      <th>993<\/th>\n",
       "      <td>6098<\/td>\n",
       "      <td>12<\/td>\n",
       "      <td>3<\/td>\n",
       "      <td>1<\/td>\n",
       "      <td>1<\/td>\n",
       "      <td>32<\/td>\n",
       "      <td>1<\/td>\n",
       "      <td>0<\/td>\n",
       "      <td>0<\/td>\n",
       "      <td>0<\/td>\n",
       "      <td>1<\/td>\n",
       "      <td>1<\/td>\n",
       "      <td>0<\/td>\n",
       "      <td>1<\/td>\n",
       "    <\/tr>\n",
       "    <tr>\n",
       "      <th>994<\/th>\n",
       "      <td>12133<\/td>\n",
       "      <td>16<\/td>\n",
       "      <td>8<\/td>\n",
       "      <td>1<\/td>\n",
       "      <td>0<\/td>\n",
       "      <td>36<\/td>\n",
       "      <td>1<\/td>\n",
       "      <td>1<\/td>\n",
       "      <td>1<\/td>\n",
       "      <td>0<\/td>\n",
       "      <td>0<\/td>\n",
       "      <td>0<\/td>\n",
       "      <td>1<\/td>\n",
       "      <td>1<\/td>\n",
       "    <\/tr>\n",
       "    <tr>\n",
       "      <th>995<\/th>\n",
       "      <td>854<\/td>\n",
       "      <td>11<\/td>\n",
       "      <td>4<\/td>\n",
       "      <td>0<\/td>\n",
       "      <td>1<\/td>\n",
       "      <td>34<\/td>\n",
       "      <td>1<\/td>\n",
       "      <td>0<\/td>\n",
       "      <td>1<\/td>\n",
       "      <td>0<\/td>\n",
       "      <td>1<\/td>\n",
       "      <td>1<\/td>\n",
       "      <td>0<\/td>\n",
       "      <td>0<\/td>\n",
       "    <\/tr>\n",
       "    <tr>\n",
       "      <th>996<\/th>\n",
       "      <td>13444<\/td>\n",
       "      <td>8<\/td>\n",
       "      <td>8<\/td>\n",
       "      <td>1<\/td>\n",
       "      <td>0<\/td>\n",
       "      <td>36<\/td>\n",
       "      <td>0<\/td>\n",
       "      <td>0<\/td>\n",
       "      <td>1<\/td>\n",
       "      <td>0<\/td>\n",
       "      <td>0<\/td>\n",
       "      <td>0<\/td>\n",
       "      <td>1<\/td>\n",
       "      <td>1<\/td>\n",
       "    <\/tr>\n",
       "    <tr>\n",
       "      <th>997<\/th>\n",
       "      <td>17170<\/td>\n",
       "      <td>16<\/td>\n",
       "      <td>6<\/td>\n",
       "      <td>1<\/td>\n",
       "      <td>1<\/td>\n",
       "      <td>44<\/td>\n",
       "      <td>0<\/td>\n",
       "      <td>1<\/td>\n",
       "      <td>0<\/td>\n",
       "      <td>1<\/td>\n",
       "      <td>1<\/td>\n",
       "      <td>1<\/td>\n",
       "      <td>0<\/td>\n",
       "      <td>0<\/td>\n",
       "    <\/tr>\n",
       "  <\/tbody>\n",
       "<\/table>\n",
       "<p>974 rows × 14 columns<\/p>\n",
       "<\/div>"
      ]
     },
     "metadata":{
      
     },
     "output_type":"display_data"
    }
   ],
   "metadata":{
    "datalore":{
     "type":"CODE",
     "hide_input_from_viewers":false,
     "hide_output_from_viewers":false,
     "node_id":"kISEo460GuwWTFLlDY0YLG"
    }
   }
  },
  {
   "cell_type":"code",
   "source":[
    "sns.set(rc={'figure.figsize':(20,5)})"
   ],
   "execution_count":44,
   "outputs":[
    
   ],
   "metadata":{
    "datalore":{
     "type":"CODE",
     "hide_input_from_viewers":false,
     "hide_output_from_viewers":false,
     "node_id":"2AQMF4OSR3tZZ4ZeDaoLE3"
    }
   }
  },
  {
   "cell_type":"code",
   "source":[
    "age = sns.countplot(x=\"Age \", data=df_input_file)"
   ],
   "execution_count":45,
   "outputs":[
    {
     "data":{
      "image\/png":"[encoded data removed]"
     },
     "metadata":{
      "image\/png":{
       
      }
     },
     "output_type":"display_data"
    }
   ],
   "metadata":{
    "datalore":{
     "type":"CODE",
     "hide_input_from_viewers":false,
     "hide_output_from_viewers":false,
     "node_id":"NR62rXqMiTCSOlyqzambJX"
    }
   }
  },
  {
   "cell_type":"code",
   "source":[
    "emp = sns.countplot(x=\"Employment period \", data=df_input_file)"
   ],
   "execution_count":46,
   "outputs":[
    {
     "data":{
      "image\/png":"[encoded data removed]"
     },
     "metadata":{
      "image\/png":{
       
      }
     },
     "output_type":"display_data"
    }
   ],
   "metadata":{
    "datalore":{
     "type":"CODE",
     "hide_input_from_viewers":false,
     "hide_output_from_viewers":false,
     "node_id":"HWq1rNoCLIv0jcUomk7oPU"
    }
   }
  },
  {
   "cell_type":"code",
   "source":[
    "sns.set(rc={'figure.figsize':(6,6)})"
   ],
   "execution_count":47,
   "outputs":[
    
   ],
   "metadata":{
    "datalore":{
     "type":"CODE",
     "hide_input_from_viewers":false,
     "hide_output_from_viewers":false,
     "node_id":"RsJLwnTCvX3cQiqa0QjAUb"
    }
   }
  },
  {
   "cell_type":"code",
   "source":[
    "age = sns.countplot(x=\"Gender \", data=df_input_file)"
   ],
   "execution_count":48,
   "outputs":[
    {
     "data":{
      "image\/png":"[encoded data removed]"
     },
     "metadata":{
      "image\/png":{
       
      }
     },
     "output_type":"display_data"
    }
   ],
   "metadata":{
    "datalore":{
     "type":"CODE",
     "hide_input_from_viewers":false,
     "hide_output_from_viewers":false,
     "node_id":"MgIUBXKpGHbuXFbZcO1sMM"
    }
   }
  },
  {
   "cell_type":"code",
   "source":[
    "sns.boxplot(x=df_input_file['Time in current department '])"
   ],
   "execution_count":49,
   "outputs":[
    {
     "data":{
      "text\/plain":[
       "<AxesSubplot:xlabel='Time in current department '>"
      ],
      "image\/png":"[encoded data removed]"
     },
     "metadata":{
      "image\/png":{
       
      }
     },
     "output_type":"display_data"
    }
   ],
   "metadata":{
    "datalore":{
     "type":"CODE",
     "hide_input_from_viewers":false,
     "hide_output_from_viewers":false,
     "node_id":"ifwYtL5DtKo9LUvykzhwiS"
    }
   }
  },
  {
   "cell_type":"code",
   "source":[
    "list_Of_Columns = list(df_input_file.columns.values)\n",
    "df_skills = df_input_file"
   ],
   "execution_count":50,
   "outputs":[
    
   ],
   "metadata":{
    "datalore":{
     "type":"CODE",
     "hide_input_from_viewers":false,
     "hide_output_from_viewers":false,
     "node_id":"w7beGsNiuXXtzvLO8cHdrx"
    }
   }
  },
  {
   "cell_type":"markdown",
   "source":[
    "<h2>Cleaning the dataset df_skills<\/h2>"
   ],
   "attachments":{
    
   },
   "metadata":{
    "datalore":{
     "type":"MD",
     "hide_input_from_viewers":false,
     "hide_output_from_viewers":false,
     "node_id":"A1NI0NjoGeRrSgRlZeehMQ"
    }
   }
  },
  {
   "cell_type":"code",
   "source":[
    "\n",
    "#Cleaning technical skills like- .Net, etc\n",
    "for i in range(len(df_skills)):\n",
    "    for j in range(6, len(df_skills.columns.values)):\n",
    "        a = list_Of_Columns[j].strip()\n",
    "        if df_skills.iloc[i, j] == 1.0:\n",
    "            df_skills.iloc[i, j] = a\n",
    "        else:\n",
    "            df_skills.iloc[i, j] = \"None\" \n",
    "\n",
    "\n",
    "# cleaning column gender\n",
    "# Assume 0 as male and 1 as female\n",
    "for i in range(len(df_skills)):\n",
    "    if df_skills.iloc[i, 3] == 1.0:\n",
    "        df_skills.iloc[i, 3] = \"Female\"\n",
    "    else:\n",
    "        df_skills.iloc[i, 3] = \"Male\" \n",
    "\n",
    "\n",
    "#cleaning column Team leader\n",
    "for i in range(len(df_skills)):\n",
    "    if df_skills.iloc[i, 4] == 1.0:\n",
    "        df_skills.iloc[i, 4] = \"Team leader\"\n",
    "    else:\n",
    "        df_skills.iloc[i, 4] = \"None\" \n",
    "\n",
    "\n",
    "#cleaning column age\n",
    "for i in range(len(df_skills)):\n",
    "    if df_skills.iloc[i, 5] <= 35.0:\n",
    "        df_skills.iloc[i, 5] = \"Young Adult\"\n",
    "    elif (df_skills.iloc[i, 5] > 35.0) and (df_input_file.iloc[i, 5] < 50.0) :\n",
    "        df_skills.iloc[i, 5] = \"Middle-aged Adult\" \n",
    "    else:\n",
    "        df_skills.iloc[i, 5] = \"Old-aged Adult\" \n",
    "\n",
    "\n",
    "#cleaning column employment period\n",
    "for i in range(len(df_skills)):\n",
    "    if df_skills.iloc[i, 1] <= 4.0:\n",
    "        df_skills.iloc[i, 1] = \"Junior-level employee\"\n",
    "    elif (df_skills.iloc[i, 1] > 4.0) and (df_skills.iloc[i, 1] < 16.0) :\n",
    "        df_skills.iloc[i, 1] = \"Mid-level employee\"\n",
    "    else:\n",
    "        df_input_file.iloc[i, 1] = \"Senior-level employee\" \n",
    "\n",
    "\n",
    "#cleaning column Period in current Department\n",
    "for i in range(len(df_skills)):\n",
    "    if df_skills.iloc[i, 2] <= 3.0:\n",
    "        df_skills.iloc[i, 2] = \"New in current Dept.\"\n",
    "    else:\n",
    "        df_skills.iloc[i, 2] = \"Old in current Dept.\" \n"
   ],
   "execution_count":51,
   "outputs":[
    
   ],
   "metadata":{
    "datalore":{
     "type":"CODE",
     "hide_input_from_viewers":false,
     "hide_output_from_viewers":false,
     "node_id":"aE20HX3HD6jnpzgwUwaokn"
    }
   }
  },
  {
   "cell_type":"markdown",
   "source":[
    "<h1>Selecting the columns from the dataset which are required<\/h1> <br> <h2>Feature Selection<\/h2>"
   ],
   "attachments":{
    
   },
   "metadata":{
    "datalore":{
     "type":"MD",
     "hide_input_from_viewers":false,
     "hide_output_from_viewers":false,
     "node_id":"QivZoYKzwqca5Hgl6epMSq"
    }
   }
  },
  {
   "cell_type":"code",
   "source":[
    "df_skills = df_skills.iloc[ : , 1:]\n",
    "df_skills"
   ],
   "execution_count":52,
   "outputs":[
    {
     "data":{
      "text\/html":[
       "<div>\n",
       "<style scoped>\n",
       "    .dataframe tbody tr th:only-of-type {\n",
       "        vertical-align: middle;\n",
       "    }\n",
       "\n",
       "    .dataframe tbody tr th {\n",
       "        vertical-align: top;\n",
       "    }\n",
       "\n",
       "    .dataframe thead th {\n",
       "        text-align: right;\n",
       "    }\n",
       "<\/style>\n",
       "<table border=\"1\" class=\"dataframe\">\n",
       "  <thead>\n",
       "    <tr style=\"text-align: right;\">\n",
       "      <th><\/th>\n",
       "      <th>Employment period<\/th>\n",
       "      <th>Time in current department<\/th>\n",
       "      <th>Gender<\/th>\n",
       "      <th>Team leader<\/th>\n",
       "      <th>Age<\/th>\n",
       "      <th>Member of professional organizations<\/th>\n",
       "      <th>.Net<\/th>\n",
       "      <th>SQL Server<\/th>\n",
       "      <th>HTML CSS Java Script<\/th>\n",
       "      <th>PHP mySQL<\/th>\n",
       "      <th>Fast working<\/th>\n",
       "      <th>Awards<\/th>\n",
       "      <th>Communicative<\/th>\n",
       "    <\/tr>\n",
       "  <\/thead>\n",
       "  <tbody>\n",
       "    <tr>\n",
       "      <th>0<\/th>\n",
       "      <td>Mid-level employee<\/td>\n",
       "      <td>Old in current Dept.<\/td>\n",
       "      <td>Male<\/td>\n",
       "      <td>Team leader<\/td>\n",
       "      <td>Middle-aged Adult<\/td>\n",
       "      <td>Member of professional organizations<\/td>\n",
       "      <td>.Net<\/td>\n",
       "      <td>SQL Server<\/td>\n",
       "      <td>None<\/td>\n",
       "      <td>PHP mySQL<\/td>\n",
       "      <td>Fast working<\/td>\n",
       "      <td>None<\/td>\n",
       "      <td>Communicative<\/td>\n",
       "    <\/tr>\n",
       "    <tr>\n",
       "      <th>1<\/th>\n",
       "      <td>Mid-level employee<\/td>\n",
       "      <td>New in current Dept.<\/td>\n",
       "      <td>Female<\/td>\n",
       "      <td>Team leader<\/td>\n",
       "      <td>Young Adult<\/td>\n",
       "      <td>Member of professional organizations<\/td>\n",
       "      <td>.Net<\/td>\n",
       "      <td>None<\/td>\n",
       "      <td>None<\/td>\n",
       "      <td>PHP mySQL<\/td>\n",
       "      <td>Fast working<\/td>\n",
       "      <td>None<\/td>\n",
       "      <td>None<\/td>\n",
       "    <\/tr>\n",
       "    <tr>\n",
       "      <th>2<\/th>\n",
       "      <td>Mid-level employee<\/td>\n",
       "      <td>Old in current Dept.<\/td>\n",
       "      <td>Male<\/td>\n",
       "      <td>None<\/td>\n",
       "      <td>Young Adult<\/td>\n",
       "      <td>None<\/td>\n",
       "      <td>None<\/td>\n",
       "      <td>SQL Server<\/td>\n",
       "      <td>HTML CSS Java Script<\/td>\n",
       "      <td>None<\/td>\n",
       "      <td>Fast working<\/td>\n",
       "      <td>None<\/td>\n",
       "      <td>Communicative<\/td>\n",
       "    <\/tr>\n",
       "    <tr>\n",
       "      <th>3<\/th>\n",
       "      <td>Mid-level employee<\/td>\n",
       "      <td>Old in current Dept.<\/td>\n",
       "      <td>Female<\/td>\n",
       "      <td>Team leader<\/td>\n",
       "      <td>Young Adult<\/td>\n",
       "      <td>Member of professional organizations<\/td>\n",
       "      <td>None<\/td>\n",
       "      <td>SQL Server<\/td>\n",
       "      <td>None<\/td>\n",
       "      <td>PHP mySQL<\/td>\n",
       "      <td>Fast working<\/td>\n",
       "      <td>Awards<\/td>\n",
       "      <td>None<\/td>\n",
       "    <\/tr>\n",
       "    <tr>\n",
       "      <th>4<\/th>\n",
       "      <td>Senior-level employee<\/td>\n",
       "      <td>Old in current Dept.<\/td>\n",
       "      <td>Male<\/td>\n",
       "      <td>None<\/td>\n",
       "      <td>Middle-aged Adult<\/td>\n",
       "      <td>None<\/td>\n",
       "      <td>None<\/td>\n",
       "      <td>None<\/td>\n",
       "      <td>HTML CSS Java Script<\/td>\n",
       "      <td>PHP mySQL<\/td>\n",
       "      <td>Fast working<\/td>\n",
       "      <td>Awards<\/td>\n",
       "      <td>Communicative<\/td>\n",
       "    <\/tr>\n",
       "    <tr>\n",
       "      <th>...<\/th>\n",
       "      <td>...<\/td>\n",
       "      <td>...<\/td>\n",
       "      <td>...<\/td>\n",
       "      <td>...<\/td>\n",
       "      <td>...<\/td>\n",
       "      <td>...<\/td>\n",
       "      <td>...<\/td>\n",
       "      <td>...<\/td>\n",
       "      <td>...<\/td>\n",
       "      <td>...<\/td>\n",
       "      <td>...<\/td>\n",
       "      <td>...<\/td>\n",
       "      <td>...<\/td>\n",
       "    <\/tr>\n",
       "    <tr>\n",
       "      <th>993<\/th>\n",
       "      <td>Mid-level employee<\/td>\n",
       "      <td>New in current Dept.<\/td>\n",
       "      <td>Female<\/td>\n",
       "      <td>Team leader<\/td>\n",
       "      <td>Young Adult<\/td>\n",
       "      <td>Member of professional organizations<\/td>\n",
       "      <td>None<\/td>\n",
       "      <td>None<\/td>\n",
       "      <td>None<\/td>\n",
       "      <td>PHP mySQL<\/td>\n",
       "      <td>Fast working<\/td>\n",
       "      <td>None<\/td>\n",
       "      <td>Communicative<\/td>\n",
       "    <\/tr>\n",
       "    <tr>\n",
       "      <th>994<\/th>\n",
       "      <td>Senior-level employee<\/td>\n",
       "      <td>Old in current Dept.<\/td>\n",
       "      <td>Female<\/td>\n",
       "      <td>None<\/td>\n",
       "      <td>Middle-aged Adult<\/td>\n",
       "      <td>Member of professional organizations<\/td>\n",
       "      <td>.Net<\/td>\n",
       "      <td>SQL Server<\/td>\n",
       "      <td>None<\/td>\n",
       "      <td>None<\/td>\n",
       "      <td>None<\/td>\n",
       "      <td>Awards<\/td>\n",
       "      <td>Communicative<\/td>\n",
       "    <\/tr>\n",
       "    <tr>\n",
       "      <th>995<\/th>\n",
       "      <td>Mid-level employee<\/td>\n",
       "      <td>Old in current Dept.<\/td>\n",
       "      <td>Male<\/td>\n",
       "      <td>Team leader<\/td>\n",
       "      <td>Young Adult<\/td>\n",
       "      <td>Member of professional organizations<\/td>\n",
       "      <td>None<\/td>\n",
       "      <td>SQL Server<\/td>\n",
       "      <td>None<\/td>\n",
       "      <td>PHP mySQL<\/td>\n",
       "      <td>Fast working<\/td>\n",
       "      <td>None<\/td>\n",
       "      <td>None<\/td>\n",
       "    <\/tr>\n",
       "    <tr>\n",
       "      <th>996<\/th>\n",
       "      <td>Mid-level employee<\/td>\n",
       "      <td>Old in current Dept.<\/td>\n",
       "      <td>Female<\/td>\n",
       "      <td>None<\/td>\n",
       "      <td>Middle-aged Adult<\/td>\n",
       "      <td>None<\/td>\n",
       "      <td>None<\/td>\n",
       "      <td>SQL Server<\/td>\n",
       "      <td>None<\/td>\n",
       "      <td>None<\/td>\n",
       "      <td>None<\/td>\n",
       "      <td>Awards<\/td>\n",
       "      <td>Communicative<\/td>\n",
       "    <\/tr>\n",
       "    <tr>\n",
       "      <th>997<\/th>\n",
       "      <td>Senior-level employee<\/td>\n",
       "      <td>Old in current Dept.<\/td>\n",
       "      <td>Female<\/td>\n",
       "      <td>Team leader<\/td>\n",
       "      <td>Middle-aged Adult<\/td>\n",
       "      <td>None<\/td>\n",
       "      <td>.Net<\/td>\n",
       "      <td>None<\/td>\n",
       "      <td>HTML CSS Java Script<\/td>\n",
       "      <td>PHP mySQL<\/td>\n",
       "      <td>Fast working<\/td>\n",
       "      <td>None<\/td>\n",
       "      <td>None<\/td>\n",
       "    <\/tr>\n",
       "  <\/tbody>\n",
       "<\/table>\n",
       "<p>974 rows × 13 columns<\/p>\n",
       "<\/div>"
      ]
     },
     "metadata":{
      
     },
     "output_type":"display_data"
    }
   ],
   "metadata":{
    "datalore":{
     "type":"CODE",
     "hide_input_from_viewers":false,
     "hide_output_from_viewers":false,
     "node_id":"JQmfZ49qZqGVkmiFCkDs5c"
    }
   }
  },
  {
   "cell_type":"code",
   "source":[
    "print(df_skills.isnull().sum())"
   ],
   "execution_count":53,
   "outputs":[
    {
     "name":"stdout",
     "text":[
      "Employment period                        0\n",
      "Time in current department               0\n",
      "Gender                                   0\n",
      "Team leader                              0\n",
      "Age                                      0\n",
      "Member of professional organizations     0\n",
      ".Net                                     0\n",
      "SQL Server                               0\n",
      "HTML CSS Java Script                     0\n",
      "PHP mySQL                                0\n",
      "Fast working                             0\n",
      "Awards                                   0\n",
      "Communicative                            0\n",
      "dtype: int64\n"
     ],
     "output_type":"stream"
    }
   ],
   "metadata":{
    "datalore":{
     "type":"CODE",
     "hide_input_from_viewers":false,
     "hide_output_from_viewers":false,
     "node_id":"7au1VvcyQC9xskXTdLwxZj"
    }
   }
  },
  {
   "cell_type":"code",
   "source":[
    "sns.set(rc={'figure.figsize':(8,6)})"
   ],
   "execution_count":54,
   "outputs":[
    
   ],
   "metadata":{
    "datalore":{
     "type":"CODE",
     "hide_input_from_viewers":false,
     "hide_output_from_viewers":false,
     "node_id":"6Cu8BAU4C8EugpVBYvAz4B"
    }
   }
  },
  {
   "cell_type":"code",
   "source":[
    "age = sns.countplot(x=\"Age \", data=df_skills)"
   ],
   "execution_count":55,
   "outputs":[
    {
     "data":{
      "image\/png":"[encoded data removed]"
     },
     "metadata":{
      "image\/png":{
       
      }
     },
     "output_type":"display_data"
    }
   ],
   "metadata":{
    "datalore":{
     "type":"CODE",
     "hide_input_from_viewers":false,
     "hide_output_from_viewers":false,
     "node_id":"grQdiZp1InfS7H2sTmxXaN"
    }
   }
  },
  {
   "cell_type":"code",
   "source":[
    "emp = sns.countplot(x=\"Employment period \", data=df_skills)"
   ],
   "execution_count":56,
   "outputs":[
    {
     "data":{
      "image\/png":"[encoded data removed]"
     },
     "metadata":{
      "image\/png":{
       
      }
     },
     "output_type":"display_data"
    }
   ],
   "metadata":{
    "datalore":{
     "type":"CODE",
     "hide_input_from_viewers":false,
     "hide_output_from_viewers":false,
     "node_id":"V6QylBYLSVeLLybkb2wrnX"
    }
   }
  },
  {
   "cell_type":"code",
   "source":[
    "\n",
    "age = sns.countplot(x=\"Employment period \", hue=\"Gender \", data=df_skills)"
   ],
   "execution_count":57,
   "outputs":[
    {
     "data":{
      "image\/png":"[encoded data removed]"
     },
     "metadata":{
      "image\/png":{
       
      }
     },
     "output_type":"display_data"
    }
   ],
   "metadata":{
    "datalore":{
     "type":"CODE",
     "hide_input_from_viewers":false,
     "hide_output_from_viewers":false,
     "node_id":"ueZavjwmItwsmsqhk0t3TN"
    }
   }
  },
  {
   "cell_type":"code",
   "source":[
    "time = sns.countplot(x=\"Time in current department \", hue= \"Gender \", data=df_skills)"
   ],
   "execution_count":58,
   "outputs":[
    {
     "data":{
      "image\/png":"[encoded data removed]"
     },
     "metadata":{
      "image\/png":{
       
      }
     },
     "output_type":"display_data"
    }
   ],
   "metadata":{
    "datalore":{
     "type":"CODE",
     "hide_input_from_viewers":false,
     "hide_output_from_viewers":false,
     "node_id":"zb4dij4uhaCiHTbchd6DVV"
    }
   }
  },
  {
   "cell_type":"markdown",
   "source":[
    "# On Gender Analysis"
   ],
   "attachments":{
    
   },
   "metadata":{
    "datalore":{
     "sheet_delimiter":true
    }
   }
  },
  {
   "cell_type":"markdown",
   "source":[
    "<h1>Subsetting the original Dataframe \"df_skills\" for analysis<\/h1>\n",
    "<h2> Two subset-datasets are \"df_gender_pos\" and \"df_gender_skill\" <\/h2>"
   ],
   "attachments":{
    
   },
   "metadata":{
    "datalore":{
     "type":"MD",
     "hide_input_from_viewers":false,
     "hide_output_from_viewers":false,
     "node_id":"RUaB0DVYAnlBksZVJtXn0b"
    }
   }
  },
  {
   "cell_type":"code",
   "source":[
    "\n",
    "df_gender_pos = df_skills[ ['Employment period ', 'Time in current department ', 'Gender ', 'Team leader ', 'Age ', 'Member of professional organizations '] ]\n",
    "df_gender_skill = df_skills[ ['Gender ', '.Net ', 'SQL Server ', 'HTML CSS Java Script ', 'PHP mySQL ', 'Fast working', 'Awards', 'Communicative '] ]"
   ],
   "execution_count":59,
   "outputs":[
    
   ],
   "metadata":{
    "datalore":{
     "type":"CODE",
     "hide_input_from_viewers":false,
     "hide_output_from_viewers":false,
     "node_id":"bn0s1J34ELcgw6HHtYX1hq"
    }
   }
  },
  {
   "cell_type":"markdown",
   "source":[
    "<h1>Functions for finding Frequent Itemsets and formulating the Association Rules<\/h1>"
   ],
   "attachments":{
    
   },
   "metadata":{
    "datalore":{
     "type":"MD",
     "hide_input_from_viewers":false,
     "hide_output_from_viewers":false,
     "node_id":"2aa8aM4R8DqHEQ1NZzZvTb"
    }
   }
  },
  {
   "cell_type":"code",
   "source":[
    "def transform_toarray( dataframe ):\n",
    "    transactions = []\n",
    "    for i in range(len(dataframe)):\n",
    "        one_record = []\n",
    "        for j in range(len(dataframe.columns)):\n",
    "            cell = str(dataframe.iloc[i,j])\n",
    "            #print(cell)\n",
    "            if cell == 'None':\n",
    "                pass\n",
    "            else:\n",
    "                one_record.append(cell)\n",
    "                #print(one_record)\n",
    "        transactions.append(one_record)\n",
    "    te = TransactionEncoder()\n",
    "    df = pd.DataFrame(te.fit(transactions).transform(transactions), columns=te.columns_)\n",
    "    return df"
   ],
   "execution_count":60,
   "outputs":[
    
   ],
   "metadata":{
    "datalore":{
     "type":"CODE",
     "hide_input_from_viewers":false,
     "hide_output_from_viewers":false,
     "node_id":"Pn65PDZdLBQuxbcSFhpjwR"
    }
   }
  },
  {
   "cell_type":"code",
   "source":[
    "def print_asso_rules(df_associa_rules, flag_gen):\n",
    "    #print(flag_gen)\n",
    "    j = 1\n",
    "    print('\\n\\n\\n========================================================================================\\n \\\n",
    "                        Association Rules are as follows: \\\n",
    "          \\n========================================================================================\\n\\n')\n",
    "    for i in range(len(df_associa_rules)):\n",
    "        if flag_gen:\n",
    "            if tuple(df_associa_rules.iloc[i, 0]).__contains__('Male') or tuple(df_associa_rules.iloc[i,1]).__contains__('Female'):\n",
    "                print(\"Rule: \", j)\n",
    "                print(\"========================================================================================\")\n",
    "                print(  tuple(df_associa_rules.iloc[i, 0]), \" ==> \", tuple(df_associa_rules.iloc[i,1]) )\n",
    "                print(\"Support: \", df_associa_rules.iloc[i, 2])\n",
    "                print(\"Confidence: \", df_associa_rules.iloc[i, 3])\n",
    "                print(\"Lift: \", df_associa_rules.iloc[i, 4], \"\\n\")\n",
    "                j += 1\n",
    "        else:\n",
    "            print(\"Rule: \", j)\n",
    "            print(\"========================================================================================\")\n",
    "            print(  tuple(df_associa_rules.iloc[i, 0]), \" ==> \", tuple(df_associa_rules.iloc[i,1]) )\n",
    "            print(\"Support: \", df_associa_rules.iloc[i, 2])\n",
    "            print(\"Confidence: \", df_associa_rules.iloc[i, 3])\n",
    "            print(\"Lift: \", df_associa_rules.iloc[i, 4], \"\\n\")\n",
    "            j += 1\n",
    "        "
   ],
   "execution_count":61,
   "outputs":[
    
   ],
   "metadata":{
    "datalore":{
     "type":"CODE",
     "hide_input_from_viewers":false,
     "hide_output_from_viewers":false,
     "node_id":"ffNCbuSeGRfklwVJzIWyw9"
    }
   }
  },
  {
   "cell_type":"code",
   "source":[
    "def print_frequent_itemsets( frequent_itemsets , flag_gen):\n",
    "    #print(flag_gen)\n",
    "    print('\\n\\n========================================================================================\\n\\\n",
    "                            Frequent Itemsets are as follows:')\n",
    "    print('========================================================================================')\n",
    "    print('  Support         |            Itemsets')\n",
    "    print('========================================================================================\\n')\n",
    "    for i in range(len(frequent_itemsets)):\n",
    "        if flag_gen:\n",
    "            if tuple(frequent_itemsets.iloc[i, 1]).__contains__('Male') or tuple(frequent_itemsets.iloc[i,1]).__contains__('Female'):\n",
    "                print( round(frequent_itemsets.iloc[i, 0] , 10 ), \"          \", tuple(frequent_itemsets.iloc[i, 1]) )\n",
    "        else:\n",
    "            print( round(frequent_itemsets.iloc[i, 0] , 10 ), \"          \", tuple(frequent_itemsets.iloc[i, 1]) )\n"
   ],
   "execution_count":62,
   "outputs":[
    
   ],
   "metadata":{
    "datalore":{
     "type":"CODE",
     "hide_input_from_viewers":false,
     "hide_output_from_viewers":false,
     "node_id":"CIYWyKNyVLp83KBOncZAsh"
    }
   }
  },
  {
   "cell_type":"code",
   "source":[
    "def generate_freq_asso_rules( dataframe,  min_sup, lift , flag_gen):\n",
    "    #transforming dataframe\n",
    "    df = transform_toarray( dataframe )\n",
    "\n",
    "    #Apriori Algorithm for training Model\n",
    "    frequent_itemsets = apriori(df, min_support= min_sup, use_colnames=True).nlargest(n = 100, columns = \"support\")\n",
    "    frequent_itemsets['length'] = frequent_itemsets['itemsets'].apply(lambda x: len(x))\n",
    "\n",
    "    #printing frequent itemsets\n",
    "    print_frequent_itemsets(frequent_itemsets, flag_gen)\n",
    "\n",
    "    #Getting the Association Rules\n",
    "    rules = association_rules(frequent_itemsets , metric =\"lift\", min_threshold = lift ).sort_values(by = 'lift', ascending=False) \n",
    "    df_associa_rules = rules.loc[:, [ 'antecedents', 'consequents', 'support', 'confidence', 'lift']] \n",
    "\n",
    "    #printing the association rules\n",
    "    print_asso_rules(df_associa_rules, flag_gen)"
   ],
   "execution_count":63,
   "outputs":[
    
   ],
   "metadata":{
    "datalore":{
     "type":"CODE",
     "hide_input_from_viewers":false,
     "hide_output_from_viewers":false,
     "node_id":"3Bm2gyY3Coe5tlbTBzmMdA"
    }
   }
  },
  {
   "cell_type":"markdown",
   "source":[
    "<h1>Frequent Itemsets and formulating the Association Rules with min. support of 0.2 and lift of 1<\/h1>"
   ],
   "attachments":{
    
   },
   "metadata":{
    "datalore":{
     "type":"MD",
     "hide_input_from_viewers":false,
     "hide_output_from_viewers":false,
     "node_id":"MRYPQgMZ24A0MbNUknM5Eb"
    }
   }
  },
  {
   "cell_type":"code",
   "source":[
    "generate_freq_asso_rules(df_gender_skill, 0.2, 1, True)"
   ],
   "execution_count":64,
   "outputs":[
    {
     "name":"stdout",
     "text":[
      "\n",
      "\n",
      "========================================================================================\n",
      "                            Frequent Itemsets are as follows:\n",
      "========================================================================================\n",
      "  Support         |            Itemsets\n",
      "========================================================================================\n",
      "\n",
      "0.5133470226            ('Male',)\n",
      "0.4866529774            ('Female',)\n",
      "0.272073922            ('Fast working', 'Male')\n",
      "0.2689938398            ('Communicative', 'Male')\n",
      "0.2618069815            ('HTML CSS Java Script', 'Male')\n",
      "0.2546201232            ('Awards', 'Male')\n",
      "0.2525667351            ('Male', 'SQL Server')\n",
      "0.2515400411            ('.Net', 'Male')\n",
      "0.250513347            ('Female', 'Awards')\n",
      "0.249486653            ('Female', 'Communicative')\n",
      "0.2474332649            ('Female', 'PHP mySQL')\n",
      "0.2453798768            ('Female', 'HTML CSS Java Script')\n",
      "0.2320328542            ('Female', 'Fast working')\n",
      "0.227926078            ('PHP mySQL', 'Male')\n",
      "0.2258726899            ('Female', '.Net')\n",
      "0.2207392197            ('Female', 'SQL Server')\n",
      "\n",
      "\n",
      "\n",
      "========================================================================================\n",
      "                         Association Rules are as follows:           \n",
      "========================================================================================\n",
      "\n",
      "\n",
      "Rule:  1\n",
      "========================================================================================\n",
      "('PHP mySQL',)  ==>  ('Female',)\n",
      "Support:  0.24743326488706366\n",
      "Confidence:  0.5205183585313174\n",
      "Lift:  1.0695883569820743 \n",
      "\n",
      "Rule:  2\n",
      "========================================================================================\n",
      "('Male',)  ==>  ('Fast working',)\n",
      "Support:  0.2720739219712526\n",
      "Confidence:  0.53\n",
      "Lift:  1.0513645621181265 \n",
      "\n",
      "Rule:  3\n",
      "========================================================================================\n",
      "('Male',)  ==>  ('SQL Server',)\n",
      "Support:  0.25256673511293637\n",
      "Confidence:  0.4920000000000001\n",
      "Lift:  1.0394967462039049 \n",
      "\n",
      "Rule:  4\n",
      "========================================================================================\n",
      "('Male',)  ==>  ('.Net',)\n",
      "Support:  0.2515400410677618\n",
      "Confidence:  0.49\n",
      "Lift:  1.0263655913978496 \n",
      "\n",
      "Rule:  5\n",
      "========================================================================================\n",
      "('Awards',)  ==>  ('Female',)\n",
      "Support:  0.25051334702258726\n",
      "Confidence:  0.4959349593495934\n",
      "Lift:  1.019073102123426 \n",
      "\n",
      "Rule:  6\n",
      "========================================================================================\n",
      "('Male',)  ==>  ('Communicative',)\n",
      "Support:  0.26899383983572894\n",
      "Confidence:  0.524\n",
      "Lift:  1.0106455445544555 \n",
      "\n",
      "Rule:  7\n",
      "========================================================================================\n",
      "('Male',)  ==>  ('HTML CSS Java Script',)\n",
      "Support:  0.2618069815195072\n",
      "Confidence:  0.5100000000000001\n",
      "Lift:  1.0055465587044536 \n",
      "\n"
     ],
     "output_type":"stream"
    }
   ],
   "metadata":{
    "datalore":{
     "type":"CODE",
     "hide_input_from_viewers":false,
     "hide_output_from_viewers":false,
     "node_id":"XE0Hu7UcMcXNEfLGuQXSjv"
    }
   }
  },
  {
   "cell_type":"code",
   "source":[
    "generate_freq_asso_rules(df_gender_pos,  0.2 , 1, True)"
   ],
   "execution_count":65,
   "outputs":[
    {
     "name":"stdout",
     "text":[
      "\n",
      "\n",
      "========================================================================================\n",
      "                            Frequent Itemsets are as follows:\n",
      "========================================================================================\n",
      "  Support         |            Itemsets\n",
      "========================================================================================\n",
      "\n",
      "0.5133470226            ('Male',)\n",
      "0.4866529774            ('Female',)\n",
      "0.3480492813            ('Old in current Dept.', 'Male')\n",
      "0.3326488706            ('Female', 'Old in current Dept.')\n",
      "0.2782340862            ('Mid-level employee', 'Male')\n",
      "0.2741273101            ('Middle-aged Adult', 'Male')\n",
      "0.2669404517            ('Female', 'Mid-level employee')\n",
      "0.2525667351            ('Female', 'Team leader')\n",
      "0.2525667351            ('Team leader', 'Male')\n",
      "0.250513347            ('Member of professional organizations', 'Male')\n",
      "0.2464065708            ('Female', 'Middle-aged Adult')\n",
      "0.2351129363            ('Female', 'Member of professional organizations')\n",
      "0.2217659138            ('Old in current Dept.', 'Mid-level employee', 'Male')\n",
      "0.2166324435            ('Female', 'Old in current Dept.', 'Mid-level employee')\n",
      "0.2032854209            ('Old in current Dept.', 'Middle-aged Adult', 'Male')\n",
      "\n",
      "\n",
      "\n",
      "========================================================================================\n",
      "                         Association Rules are as follows:           \n",
      "========================================================================================\n",
      "\n",
      "\n",
      "Rule:  1\n",
      "========================================================================================\n",
      "('Mid-level employee',)  ==>  ('Female', 'Old in current Dept.')\n",
      "Support:  0.2166324435318275\n",
      "Confidence:  0.3973634651600753\n",
      "Lift:  1.194543256376276 \n",
      "\n",
      "Rule:  2\n",
      "========================================================================================\n",
      "('Old in current Dept.',)  ==>  ('Female', 'Mid-level employee')\n",
      "Support:  0.2166324435318275\n",
      "Confidence:  0.31825037707390647\n",
      "Lift:  1.1922148741153265 \n",
      "\n",
      "Rule:  3\n",
      "========================================================================================\n",
      "('Mid-level employee', 'Male')  ==>  ('Old in current Dept.',)\n",
      "Support:  0.22176591375770022\n",
      "Confidence:  0.7970479704797049\n",
      "Lift:  1.170927184384966 \n",
      "\n",
      "Rule:  4\n",
      "========================================================================================\n",
      "('Old in current Dept.', 'Male')  ==>  ('Mid-level employee',)\n",
      "Support:  0.22176591375770022\n",
      "Confidence:  0.6371681415929203\n",
      "Lift:  1.1687415629218538 \n",
      "\n",
      "Rule:  5\n",
      "========================================================================================\n",
      "('Old in current Dept.', 'Male')  ==>  ('Middle-aged Adult',)\n",
      "Support:  0.2032854209445585\n",
      "Confidence:  0.5840707964601769\n",
      "Lift:  1.122061056710478 \n",
      "\n",
      "Rule:  6\n",
      "========================================================================================\n",
      "('Middle-aged Adult', 'Male')  ==>  ('Old in current Dept.',)\n",
      "Support:  0.2032854209445585\n",
      "Confidence:  0.7415730337078652\n",
      "Lift:  1.089430067619096 \n",
      "\n",
      "Rule:  7\n",
      "========================================================================================\n",
      "('Male',)  ==>  ('Old in current Dept.', 'Middle-aged Adult')\n",
      "Support:  0.2032854209445585\n",
      "Confidence:  0.396\n",
      "Lift:  1.0804033613445378 \n",
      "\n",
      "Rule:  8\n",
      "========================================================================================\n",
      "('Team leader',)  ==>  ('Female',)\n",
      "Support:  0.25256673511293637\n",
      "Confidence:  0.5\n",
      "Lift:  1.0274261603375527 \n",
      "\n",
      "Rule:  9\n",
      "========================================================================================\n",
      "('Male',)  ==>  ('Middle-aged Adult',)\n",
      "Support:  0.2741273100616016\n",
      "Confidence:  0.534\n",
      "Lift:  1.0258698224852072 \n",
      "\n",
      "Rule:  10\n",
      "========================================================================================\n",
      "('Old in current Dept.', 'Mid-level employee')  ==>  ('Female',)\n",
      "Support:  0.2166324435318275\n",
      "Confidence:  0.49414519906323184\n",
      "Lift:  1.015395409045544 \n",
      "\n",
      "Rule:  11\n",
      "========================================================================================\n",
      "('Mid-level employee',)  ==>  ('Female',)\n",
      "Support:  0.2669404517453799\n",
      "Confidence:  0.4896421845574388\n",
      "Lift:  1.0061423792382813 \n",
      "\n",
      "Rule:  12\n",
      "========================================================================================\n",
      "('Male',)  ==>  ('Member of professional organizations',)\n",
      "Support:  0.25051334702258726\n",
      "Confidence:  0.48800000000000004\n",
      "Lift:  1.0048879492600424 \n",
      "\n",
      "Rule:  13\n",
      "========================================================================================\n",
      "('Old in current Dept.',)  ==>  ('Female',)\n",
      "Support:  0.3326488706365503\n",
      "Confidence:  0.48868778280542985\n",
      "Lift:  1.0041812245833095 \n",
      "\n"
     ],
     "output_type":"stream"
    }
   ],
   "metadata":{
    "datalore":{
     "type":"CODE",
     "hide_input_from_viewers":false,
     "hide_output_from_viewers":false,
     "node_id":"FqyQVMM4Aq9cxWDWgeBwZz"
    }
   }
  },
  {
   "cell_type":"markdown",
   "source":[
    "<h1>Changing Parameters<\/h1>"
   ],
   "attachments":{
    
   },
   "metadata":{
    "datalore":{
     "type":"MD",
     "hide_input_from_viewers":false,
     "hide_output_from_viewers":false,
     "node_id":"6jWvdyLBwVrJbOpuwEwKQk"
    }
   }
  },
  {
   "cell_type":"markdown",
   "source":[
    "<h1>Frequent Itemsets and formulating the Association Rules with min. support of 0.26 and lift of 1<\/h1>"
   ],
   "attachments":{
    
   },
   "metadata":{
    "datalore":{
     "type":"MD",
     "hide_input_from_viewers":false,
     "hide_output_from_viewers":false,
     "node_id":"u2PVr6UuxBLtn9tNMJqZb7"
    }
   }
  },
  {
   "cell_type":"code",
   "source":[
    "generate_freq_asso_rules(df_gender_skill, 0.26, 1, True)"
   ],
   "execution_count":66,
   "outputs":[
    {
     "name":"stdout",
     "text":[
      "\n",
      "\n",
      "========================================================================================\n",
      "                            Frequent Itemsets are as follows:\n",
      "========================================================================================\n",
      "  Support         |            Itemsets\n",
      "========================================================================================\n",
      "\n",
      "0.5133470226            ('Male',)\n",
      "0.4866529774            ('Female',)\n",
      "0.272073922            ('Fast working', 'Male')\n",
      "0.2689938398            ('Communicative', 'Male')\n",
      "0.2618069815            ('HTML CSS Java Script', 'Male')\n",
      "\n",
      "\n",
      "\n",
      "========================================================================================\n",
      "                         Association Rules are as follows:           \n",
      "========================================================================================\n",
      "\n",
      "\n",
      "Rule:  1\n",
      "========================================================================================\n",
      "('Male',)  ==>  ('Fast working',)\n",
      "Support:  0.2720739219712526\n",
      "Confidence:  0.53\n",
      "Lift:  1.0513645621181265 \n",
      "\n",
      "Rule:  2\n",
      "========================================================================================\n",
      "('Male',)  ==>  ('Communicative',)\n",
      "Support:  0.26899383983572894\n",
      "Confidence:  0.524\n",
      "Lift:  1.0106455445544555 \n",
      "\n",
      "Rule:  3\n",
      "========================================================================================\n",
      "('Male',)  ==>  ('HTML CSS Java Script',)\n",
      "Support:  0.2618069815195072\n",
      "Confidence:  0.5100000000000001\n",
      "Lift:  1.0055465587044536 \n",
      "\n"
     ],
     "output_type":"stream"
    }
   ],
   "metadata":{
    "datalore":{
     "type":"CODE",
     "hide_input_from_viewers":false,
     "hide_output_from_viewers":false,
     "node_id":"i1UMefr1lvZevIeUSu9a6x"
    }
   }
  },
  {
   "cell_type":"code",
   "source":[
    "generate_freq_asso_rules(df_gender_pos,  0.26 , 1, True)"
   ],
   "execution_count":67,
   "outputs":[
    {
     "name":"stdout",
     "text":[
      "\n",
      "\n",
      "========================================================================================\n",
      "                            Frequent Itemsets are as follows:\n",
      "========================================================================================\n",
      "  Support         |            Itemsets\n",
      "========================================================================================\n",
      "\n",
      "0.5133470226            ('Male',)\n",
      "0.4866529774            ('Female',)\n",
      "0.3480492813            ('Old in current Dept.', 'Male')\n",
      "0.3326488706            ('Female', 'Old in current Dept.')\n",
      "0.2782340862            ('Mid-level employee', 'Male')\n",
      "0.2741273101            ('Middle-aged Adult', 'Male')\n",
      "0.2669404517            ('Female', 'Mid-level employee')\n",
      "\n",
      "\n",
      "\n",
      "========================================================================================\n",
      "                         Association Rules are as follows:           \n",
      "========================================================================================\n",
      "\n",
      "\n",
      "Rule:  1\n",
      "========================================================================================\n",
      "('Male',)  ==>  ('Middle-aged Adult',)\n",
      "Support:  0.2741273100616016\n",
      "Confidence:  0.534\n",
      "Lift:  1.0258698224852072 \n",
      "\n",
      "Rule:  2\n",
      "========================================================================================\n",
      "('Mid-level employee',)  ==>  ('Female',)\n",
      "Support:  0.2669404517453799\n",
      "Confidence:  0.4896421845574388\n",
      "Lift:  1.0061423792382813 \n",
      "\n",
      "Rule:  3\n",
      "========================================================================================\n",
      "('Old in current Dept.',)  ==>  ('Female',)\n",
      "Support:  0.3326488706365503\n",
      "Confidence:  0.48868778280542985\n",
      "Lift:  1.0041812245833095 \n",
      "\n"
     ],
     "output_type":"stream"
    }
   ],
   "metadata":{
    "datalore":{
     "type":"CODE",
     "hide_input_from_viewers":false,
     "hide_output_from_viewers":false,
     "node_id":"Jn2ps4tu46EgtS99rjMdUn"
    }
   }
  },
  {
   "cell_type":"markdown",
   "source":[
    "# Overall analysis of org."
   ],
   "attachments":{
    
   },
   "metadata":{
    "datalore":{
     "sheet_delimiter":true
    }
   }
  },
  {
   "cell_type":"markdown",
   "source":[
    "<h1>Association Rules - using original dataset \"df_skills\"<\/h1>\n",
    "<h2>Frequent Itemsets and formulating the Association Rules with min. support of 0.2 and lift of 1<\/h2>"
   ],
   "attachments":{
    
   },
   "metadata":{
    "datalore":{
     "type":"MD",
     "hide_input_from_viewers":false,
     "hide_output_from_viewers":false,
     "node_id":"CQkTv8TLj1bX4YXBKoXF5K"
    }
   }
  },
  {
   "cell_type":"code",
   "source":[
    "generate_freq_asso_rules(df_skills,  0.2 , 1, False)"
   ],
   "execution_count":68,
   "outputs":[
    {
     "name":"stdout",
     "text":[
      "\n",
      "\n",
      "========================================================================================\n",
      "                            Frequent Itemsets are as follows:\n",
      "========================================================================================\n",
      "  Support         |            Itemsets\n",
      "========================================================================================\n",
      "\n",
      "0.680698152            ('Old in current Dept.',)\n",
      "0.545174538            ('Mid-level employee',)\n",
      "0.5205338809            ('Middle-aged Adult',)\n",
      "0.5184804928            ('Communicative',)\n",
      "0.5133470226            ('Male',)\n",
      "0.5071868583            ('HTML CSS Java Script',)\n",
      "0.5051334702            ('Awards',)\n",
      "0.5051334702            ('Team leader',)\n",
      "0.5041067762            ('Fast working',)\n",
      "0.4866529774            ('Female',)\n",
      "0.4856262834            ('Member of professional organizations',)\n",
      "0.477412731            ('.Net',)\n",
      "0.4753593429            ('PHP mySQL',)\n",
      "0.4733059548            ('SQL Server',)\n",
      "0.4383983573            ('Old in current Dept.', 'Mid-level employee')\n",
      "0.3665297741            ('Old in current Dept.', 'Middle-aged Adult')\n",
      "0.3613963039            ('Old in current Dept.', 'Fast working')\n",
      "0.3531827515            ('Old in current Dept.', 'Communicative')\n",
      "0.3480492813            ('Old in current Dept.', 'Male')\n",
      "0.340862423            ('Old in current Dept.', 'Awards')\n",
      "0.340862423            ('Old in current Dept.', 'HTML CSS Java Script')\n",
      "0.3326488706            ('Female', 'Old in current Dept.')\n",
      "0.3326488706            ('Old in current Dept.', 'Team leader')\n",
      "0.3234086242            ('Old in current Dept.', 'PHP mySQL')\n",
      "0.3203285421            ('Old in current Dept.', 'Member of professional organizations')\n",
      "0.319301848            ('New in current Dept.',)\n",
      "0.318275154            ('Old in current Dept.', 'SQL Server')\n",
      "0.3162217659            ('Old in current Dept.', '.Net')\n",
      "0.2936344969            ('Young Adult',)\n",
      "0.2885010267            ('Team leader', 'Communicative')\n",
      "0.2874743326            ('Mid-level employee', 'Communicative')\n",
      "0.2823408624            ('Mid-level employee', 'Fast working')\n",
      "0.2782340862            ('HTML CSS Java Script', 'Mid-level employee')\n",
      "0.2782340862            ('Mid-level employee', 'Male')\n",
      "0.2761806982            ('Middle-aged Adult', 'Fast working')\n",
      "0.2751540041            ('Awards', 'Mid-level employee')\n",
      "0.2741273101            ('Middle-aged Adult', 'Male')\n",
      "0.272073922            ('Fast working', 'Male')\n",
      "0.272073922            ('Team leader', 'Mid-level employee')\n",
      "0.2689938398            ('Communicative', 'Male')\n",
      "0.2689938398            ('HTML CSS Java Script', 'Middle-aged Adult')\n",
      "0.2669404517            ('Female', 'Mid-level employee')\n",
      "0.2669404517            ('Mid-level employee', 'Member of professional organizations')\n",
      "0.2659137577            ('HTML CSS Java Script', 'Communicative')\n",
      "0.2648870637            ('.Net', 'Mid-level employee')\n",
      "0.2618069815            ('HTML CSS Java Script', 'Male')\n",
      "0.2597535934            ('HTML CSS Java Script', 'Awards')\n",
      "0.2577002053            ('Team leader', 'Fast working')\n",
      "0.2566735113            ('.Net', 'Middle-aged Adult')\n",
      "0.2566735113            ('Awards', 'Communicative')\n",
      "0.2566735113            ('Fast working', 'Communicative')\n",
      "0.2566735113            ('Mid-level employee', 'SQL Server')\n",
      "0.2556468172            ('Middle-aged Adult', 'Communicative')\n",
      "0.2546201232            ('Awards', 'Male')\n",
      "0.2546201232            ('Team leader', 'Awards')\n",
      "0.2535934292            ('HTML CSS Java Script', 'Fast working')\n",
      "0.2525667351            ('Communicative', 'Member of professional organizations')\n",
      "0.2525667351            ('Female', 'Team leader')\n",
      "0.2525667351            ('Male', 'SQL Server')\n",
      "0.2525667351            ('Team leader', 'Male')\n",
      "0.2515400411            ('Senior-level employee',)\n",
      "0.2515400411            ('.Net', 'Male')\n",
      "0.250513347            ('Female', 'Awards')\n",
      "0.250513347            ('Awards', 'Middle-aged Adult')\n",
      "0.250513347            ('PHP mySQL', 'Communicative')\n",
      "0.250513347            ('Member of professional organizations', 'Male')\n",
      "0.250513347            ('Middle-aged Adult', 'PHP mySQL')\n",
      "0.249486653            ('Awards', 'Fast working')\n",
      "0.249486653            ('Awards', 'SQL Server')\n",
      "0.249486653            ('Female', 'Communicative')\n",
      "0.249486653            ('Fast working', 'PHP mySQL')\n",
      "0.249486653            ('Mid-level employee', 'PHP mySQL')\n",
      "0.249486653            ('Team leader', 'Middle-aged Adult')\n",
      "0.2484599589            ('Awards', 'Member of professional organizations')\n",
      "0.2484599589            ('Team leader', 'HTML CSS Java Script')\n",
      "0.2474332649            ('Team leader', '.Net')\n",
      "0.2474332649            ('Female', 'PHP mySQL')\n",
      "0.2474332649            ('HTML CSS Java Script', 'SQL Server')\n",
      "0.2464065708            ('Female', 'Middle-aged Adult')\n",
      "0.2453798768            ('Female', 'HTML CSS Java Script')\n",
      "0.2443531828            ('Middle-aged Adult', 'Member of professional organizations')\n",
      "0.2433264887            ('HTML CSS Java Script', '.Net')\n",
      "0.2412731006            ('HTML CSS Java Script', 'Member of professional organizations')\n",
      "0.2412731006            ('HTML CSS Java Script', 'PHP mySQL')\n",
      "0.2402464066            ('Team leader', 'PHP mySQL')\n",
      "0.2392197125            ('Fast working', 'Member of professional organizations')\n",
      "0.2392197125            ('Fast working', 'SQL Server')\n",
      "0.2392197125            ('Team leader', 'SQL Server')\n",
      "0.2381930185            ('.Net', 'Fast working')\n",
      "0.2371663244            ('Mid-level employee', 'Middle-aged Adult')\n",
      "0.2361396304            ('Awards', '.Net')\n",
      "0.2361396304            ('.Net', 'SQL Server')\n",
      "0.2361396304            ('Awards', 'PHP mySQL')\n",
      "0.2361396304            ('Team leader', 'Member of professional organizations')\n",
      "0.2351129363            ('.Net', 'Communicative')\n",
      "0.2351129363            ('Female', 'Member of professional organizations')\n",
      "0.2351129363            ('Middle-aged Adult', 'SQL Server')\n",
      "0.2320328542            ('Female', 'Fast working')\n",
      "0.2320328542            ('Member of professional organizations', 'SQL Server')\n",
      "0.2310061602            ('.Net', 'Member of professional organizations')\n",
      "\n",
      "\n",
      "\n",
      "========================================================================================\n",
      "                         Association Rules are as follows:           \n",
      "========================================================================================\n",
      "\n",
      "\n",
      "Rule:  1\n",
      "========================================================================================\n",
      "('Old in current Dept.',)  ==>  ('Mid-level employee',)\n",
      "Support:  0.4383983572895277\n",
      "Confidence:  0.6440422322775263\n",
      "Lift:  1.1813505352887206 \n",
      "\n",
      "Rule:  2\n",
      "========================================================================================\n",
      "('Mid-level employee',)  ==>  ('Old in current Dept.',)\n",
      "Support:  0.4383983572895277\n",
      "Confidence:  0.8041431261770244\n",
      "Lift:  1.1813505352887206 \n",
      "\n",
      "Rule:  3\n",
      "========================================================================================\n",
      "('Team leader',)  ==>  ('Communicative',)\n",
      "Support:  0.28850102669404515\n",
      "Confidence:  0.5711382113821137\n",
      "Lift:  1.1015616195765916 \n",
      "\n",
      "Rule:  4\n",
      "========================================================================================\n",
      "('Communicative',)  ==>  ('Team leader',)\n",
      "Support:  0.28850102669404515\n",
      "Confidence:  0.5564356435643564\n",
      "Lift:  1.1015616195765916 \n",
      "\n",
      "Rule:  5\n",
      "========================================================================================\n",
      "('PHP mySQL',)  ==>  ('Female',)\n",
      "Support:  0.24743326488706366\n",
      "Confidence:  0.5205183585313174\n",
      "Lift:  1.0695883569820743 \n",
      "\n",
      "Rule:  6\n",
      "========================================================================================\n",
      "('Female',)  ==>  ('PHP mySQL',)\n",
      "Support:  0.24743326488706366\n",
      "Confidence:  0.5084388185654009\n",
      "Lift:  1.0695883569820743 \n",
      "\n",
      "Rule:  7\n",
      "========================================================================================\n",
      "('Old in current Dept.',)  ==>  ('Fast working',)\n",
      "Support:  0.3613963039014374\n",
      "Confidence:  0.530920060331825\n",
      "Lift:  1.0531896919820727 \n",
      "\n",
      "Rule:  8\n",
      "========================================================================================\n",
      "('Fast working',)  ==>  ('Old in current Dept.',)\n",
      "Support:  0.3613963039014374\n",
      "Confidence:  0.7169042769857435\n",
      "Lift:  1.0531896919820727 \n",
      "\n",
      "Rule:  9\n",
      "========================================================================================\n",
      "('Fast working',)  ==>  ('Middle-aged Adult',)\n",
      "Support:  0.27618069815195073\n",
      "Confidence:  0.5478615071283096\n",
      "Lift:  1.0524992267119795 \n",
      "\n",
      "Rule:  10\n",
      "========================================================================================\n",
      "('Middle-aged Adult',)  ==>  ('Fast working',)\n",
      "Support:  0.27618069815195073\n",
      "Confidence:  0.5305719921104537\n",
      "Lift:  1.0524992267119795 \n",
      "\n",
      "Rule:  11\n",
      "========================================================================================\n",
      "('Male',)  ==>  ('Fast working',)\n",
      "Support:  0.2720739219712526\n",
      "Confidence:  0.53\n",
      "Lift:  1.0513645621181265 \n",
      "\n",
      "Rule:  12\n",
      "========================================================================================\n",
      "('Fast working',)  ==>  ('Male',)\n",
      "Support:  0.2720739219712526\n",
      "Confidence:  0.539714867617108\n",
      "Lift:  1.0513645621181265 \n",
      "\n",
      "Rule:  13\n",
      "========================================================================================\n",
      "('.Net',)  ==>  ('SQL Server',)\n",
      "Support:  0.23613963039014374\n",
      "Confidence:  0.4946236559139785\n",
      "Lift:  1.0450400018659762 \n",
      "\n",
      "Rule:  14\n",
      "========================================================================================\n",
      "('SQL Server',)  ==>  ('.Net',)\n",
      "Support:  0.23613963039014374\n",
      "Confidence:  0.49891540130151846\n",
      "Lift:  1.0450400018659762 \n",
      "\n",
      "Rule:  15\n",
      "========================================================================================\n",
      "('SQL Server',)  ==>  ('Awards',)\n",
      "Support:  0.24948665297741274\n",
      "Confidence:  0.5271149674620391\n",
      "Lift:  1.0435162160732236 \n",
      "\n",
      "Rule:  16\n",
      "========================================================================================\n",
      "('Awards',)  ==>  ('SQL Server',)\n",
      "Support:  0.24948665297741274\n",
      "Confidence:  0.4939024390243902\n",
      "Lift:  1.0435162160732234 \n",
      "\n",
      "Rule:  17\n",
      "========================================================================================\n",
      "('PHP mySQL',)  ==>  ('Fast working',)\n",
      "Support:  0.24948665297741274\n",
      "Confidence:  0.5248380129589633\n",
      "Lift:  1.0411246937312226 \n",
      "\n",
      "Rule:  18\n",
      "========================================================================================\n",
      "('Fast working',)  ==>  ('PHP mySQL',)\n",
      "Support:  0.24948665297741274\n",
      "Confidence:  0.49490835030549907\n",
      "Lift:  1.0411246937312226 \n",
      "\n",
      "Rule:  19\n",
      "========================================================================================\n",
      "('SQL Server',)  ==>  ('Male',)\n",
      "Support:  0.25256673511293637\n",
      "Confidence:  0.5336225596529285\n",
      "Lift:  1.0394967462039049 \n",
      "\n",
      "Rule:  20\n",
      "========================================================================================\n",
      "('Male',)  ==>  ('SQL Server',)\n",
      "Support:  0.25256673511293637\n",
      "Confidence:  0.4920000000000001\n",
      "Lift:  1.0394967462039049 \n",
      "\n",
      "Rule:  21\n",
      "========================================================================================\n",
      "('Middle-aged Adult',)  ==>  ('Old in current Dept.',)\n",
      "Support:  0.3665297741273101\n",
      "Confidence:  0.7041420118343196\n",
      "Lift:  1.0344409042633895 \n",
      "\n",
      "Rule:  22\n",
      "========================================================================================\n",
      "('Old in current Dept.',)  ==>  ('Middle-aged Adult',)\n",
      "Support:  0.3665297741273101\n",
      "Confidence:  0.5384615384615384\n",
      "Lift:  1.0344409042633895 \n",
      "\n",
      "Rule:  23\n",
      "========================================================================================\n",
      "('.Net',)  ==>  ('Middle-aged Adult',)\n",
      "Support:  0.25667351129363447\n",
      "Confidence:  0.5376344086021505\n",
      "Lift:  1.0328519013382538 \n",
      "\n",
      "Rule:  24\n",
      "========================================================================================\n",
      "('Middle-aged Adult',)  ==>  ('.Net',)\n",
      "Support:  0.25667351129363447\n",
      "Confidence:  0.49309664694280075\n",
      "Lift:  1.0328519013382536 \n",
      "\n",
      "Rule:  25\n",
      "========================================================================================\n",
      "('SQL Server',)  ==>  ('HTML CSS Java Script',)\n",
      "Support:  0.24743326488706366\n",
      "Confidence:  0.5227765726681128\n",
      "Lift:  1.0307376149367244 \n",
      "\n",
      "Rule:  26\n",
      "========================================================================================\n",
      "('HTML CSS Java Script',)  ==>  ('SQL Server',)\n",
      "Support:  0.24743326488706366\n",
      "Confidence:  0.48785425101214575\n",
      "Lift:  1.0307376149367244 \n",
      "\n",
      "Rule:  27\n",
      "========================================================================================\n",
      "('Team leader',)  ==>  ('Female',)\n",
      "Support:  0.25256673511293637\n",
      "Confidence:  0.5\n",
      "Lift:  1.0274261603375527 \n",
      "\n",
      "Rule:  28\n",
      "========================================================================================\n",
      "('Female',)  ==>  ('Team leader',)\n",
      "Support:  0.25256673511293637\n",
      "Confidence:  0.518987341772152\n",
      "Lift:  1.0274261603375527 \n",
      "\n",
      "Rule:  29\n",
      "========================================================================================\n",
      "('Fast working',)  ==>  ('Mid-level employee',)\n",
      "Support:  0.28234086242299794\n",
      "Confidence:  0.560081466395112\n",
      "Lift:  1.0273434054027102 \n",
      "\n",
      "Rule:  30\n",
      "========================================================================================\n",
      "('Mid-level employee',)  ==>  ('Fast working',)\n",
      "Support:  0.28234086242299794\n",
      "Confidence:  0.5178907721280602\n",
      "Lift:  1.0273434054027102 \n",
      "\n",
      "Rule:  31\n",
      "========================================================================================\n",
      "('Male',)  ==>  ('.Net',)\n",
      "Support:  0.2515400410677618\n",
      "Confidence:  0.49\n",
      "Lift:  1.0263655913978496 \n",
      "\n",
      "Rule:  32\n",
      "========================================================================================\n",
      "('.Net',)  ==>  ('Male',)\n",
      "Support:  0.2515400410677618\n",
      "Confidence:  0.5268817204301075\n",
      "Lift:  1.0263655913978496 \n",
      "\n",
      "Rule:  33\n",
      "========================================================================================\n",
      "('.Net',)  ==>  ('Team leader',)\n",
      "Support:  0.24743326488706366\n",
      "Confidence:  0.5182795698924731\n",
      "Lift:  1.0260250021855057 \n",
      "\n",
      "Rule:  34\n",
      "========================================================================================\n",
      "('Team leader',)  ==>  ('.Net',)\n",
      "Support:  0.24743326488706366\n",
      "Confidence:  0.4898373983739837\n",
      "Lift:  1.0260250021855057 \n",
      "\n",
      "Rule:  35\n",
      "========================================================================================\n",
      "('Middle-aged Adult',)  ==>  ('Male',)\n",
      "Support:  0.2741273100616016\n",
      "Confidence:  0.5266272189349113\n",
      "Lift:  1.0258698224852072 \n",
      "\n",
      "Rule:  36\n",
      "========================================================================================\n",
      "('Male',)  ==>  ('Middle-aged Adult',)\n",
      "Support:  0.2741273100616016\n",
      "Confidence:  0.534\n",
      "Lift:  1.0258698224852072 \n",
      "\n",
      "Rule:  37\n",
      "========================================================================================\n",
      "('Female',)  ==>  ('Awards',)\n",
      "Support:  0.25051334702258726\n",
      "Confidence:  0.5147679324894515\n",
      "Lift:  1.0190731021234263 \n",
      "\n",
      "Rule:  38\n",
      "========================================================================================\n",
      "('Awards',)  ==>  ('Female',)\n",
      "Support:  0.25051334702258726\n",
      "Confidence:  0.4959349593495934\n",
      "Lift:  1.019073102123426 \n",
      "\n",
      "Rule:  39\n",
      "========================================================================================\n",
      "('HTML CSS Java Script',)  ==>  ('Middle-aged Adult',)\n",
      "Support:  0.26899383983572894\n",
      "Confidence:  0.5303643724696356\n",
      "Lift:  1.0188854019436393 \n",
      "\n",
      "Rule:  40\n",
      "========================================================================================\n",
      "('Middle-aged Adult',)  ==>  ('HTML CSS Java Script',)\n",
      "Support:  0.26899383983572894\n",
      "Confidence:  0.5167652859960552\n",
      "Lift:  1.018885401943639 \n",
      "\n",
      "Rule:  41\n",
      "========================================================================================\n",
      "('.Net',)  ==>  ('Mid-level employee',)\n",
      "Support:  0.2648870636550308\n",
      "Confidence:  0.5548387096774193\n",
      "Lift:  1.0177267480711985 \n",
      "\n",
      "Rule:  42\n",
      "========================================================================================\n",
      "('Mid-level employee',)  ==>  ('.Net',)\n",
      "Support:  0.2648870636550308\n",
      "Confidence:  0.48587570621468923\n",
      "Lift:  1.0177267480711985 \n",
      "\n",
      "Rule:  43\n",
      "========================================================================================\n",
      "('Communicative',)  ==>  ('Mid-level employee',)\n",
      "Support:  0.2874743326488706\n",
      "Confidence:  0.5544554455445544\n",
      "Lift:  1.017023736271932 \n",
      "\n",
      "Rule:  44\n",
      "========================================================================================\n",
      "('Mid-level employee',)  ==>  ('Communicative',)\n",
      "Support:  0.2874743326488706\n",
      "Confidence:  0.527306967984934\n",
      "Lift:  1.017023736271932 \n",
      "\n",
      "Rule:  45\n",
      "========================================================================================\n",
      "('PHP mySQL',)  ==>  ('Communicative',)\n",
      "Support:  0.25051334702258726\n",
      "Confidence:  0.5269978401727862\n",
      "Lift:  1.0164275174817698 \n",
      "\n",
      "Rule:  46\n",
      "========================================================================================\n",
      "('Communicative',)  ==>  ('PHP mySQL',)\n",
      "Support:  0.25051334702258726\n",
      "Confidence:  0.48316831683168315\n",
      "Lift:  1.0164275174817696 \n",
      "\n",
      "Rule:  47\n",
      "========================================================================================\n",
      "('Awards',)  ==>  ('HTML CSS Java Script',)\n",
      "Support:  0.2597535934291581\n",
      "Confidence:  0.5142276422764227\n",
      "Lift:  1.0138820315328658 \n",
      "\n",
      "Rule:  48\n",
      "========================================================================================\n",
      "('HTML CSS Java Script',)  ==>  ('Awards',)\n",
      "Support:  0.2597535934291581\n",
      "Confidence:  0.5121457489878543\n",
      "Lift:  1.0138820315328658 \n",
      "\n",
      "Rule:  49\n",
      "========================================================================================\n",
      "('Member of professional organizations',)  ==>  ('Awards',)\n",
      "Support:  0.24845995893223818\n",
      "Confidence:  0.5116279069767442\n",
      "Lift:  1.012856872754774 \n",
      "\n",
      "Rule:  50\n",
      "========================================================================================\n",
      "('Awards',)  ==>  ('Member of professional organizations',)\n",
      "Support:  0.24845995893223818\n",
      "Confidence:  0.49186991869918695\n",
      "Lift:  1.012856872754774 \n",
      "\n",
      "Rule:  51\n",
      "========================================================================================\n",
      "('PHP mySQL',)  ==>  ('Middle-aged Adult',)\n",
      "Support:  0.25051334702258726\n",
      "Confidence:  0.5269978401727862\n",
      "Lift:  1.0124179414759247 \n",
      "\n",
      "Rule:  52\n",
      "========================================================================================\n",
      "('Middle-aged Adult',)  ==>  ('PHP mySQL',)\n",
      "Support:  0.25051334702258726\n",
      "Confidence:  0.4812623274161736\n",
      "Lift:  1.0124179414759245 \n",
      "\n",
      "Rule:  53\n",
      "========================================================================================\n",
      "('Fast working',)  ==>  ('Team leader',)\n",
      "Support:  0.25770020533880905\n",
      "Confidence:  0.5112016293279024\n",
      "Lift:  1.0120129816369448 \n",
      "\n",
      "Rule:  54\n",
      "========================================================================================\n",
      "('Team leader',)  ==>  ('Fast working',)\n",
      "Support:  0.25770020533880905\n",
      "Confidence:  0.5101626016260162\n",
      "Lift:  1.0120129816369448 \n",
      "\n",
      "Rule:  55\n",
      "========================================================================================\n",
      "('Communicative',)  ==>  ('HTML CSS Java Script',)\n",
      "Support:  0.26591375770020537\n",
      "Confidence:  0.5128712871287129\n",
      "Lift:  1.0112077604521585 \n",
      "\n",
      "Rule:  56\n",
      "========================================================================================\n",
      "('HTML CSS Java Script',)  ==>  ('Communicative',)\n",
      "Support:  0.26591375770020537\n",
      "Confidence:  0.5242914979757085\n",
      "Lift:  1.0112077604521585 \n",
      "\n",
      "Rule:  57\n",
      "========================================================================================\n",
      "('Communicative',)  ==>  ('Male',)\n",
      "Support:  0.26899383983572894\n",
      "Confidence:  0.5188118811881188\n",
      "Lift:  1.0106455445544555 \n",
      "\n",
      "Rule:  58\n",
      "========================================================================================\n",
      "('Male',)  ==>  ('Communicative',)\n",
      "Support:  0.26899383983572894\n",
      "Confidence:  0.524\n",
      "Lift:  1.0106455445544555 \n",
      "\n",
      "Rule:  59\n",
      "========================================================================================\n",
      "('SQL Server',)  ==>  ('Member of professional organizations',)\n",
      "Support:  0.23203285420944558\n",
      "Confidence:  0.49023861171366595\n",
      "Lift:  1.0094976909283522 \n",
      "\n",
      "Rule:  60\n",
      "========================================================================================\n",
      "('Member of professional organizations',)  ==>  ('SQL Server',)\n",
      "Support:  0.23203285420944558\n",
      "Confidence:  0.4778012684989429\n",
      "Lift:  1.0094976909283522 \n",
      "\n",
      "Rule:  61\n",
      "========================================================================================\n",
      "('Member of professional organizations',)  ==>  ('Mid-level employee',)\n",
      "Support:  0.2669404517453799\n",
      "Confidence:  0.5496828752642706\n",
      "Lift:  1.0082695301457618 \n",
      "\n",
      "Rule:  62\n",
      "========================================================================================\n",
      "('Mid-level employee',)  ==>  ('Member of professional organizations',)\n",
      "Support:  0.2669404517453799\n",
      "Confidence:  0.4896421845574388\n",
      "Lift:  1.0082695301457618 \n",
      "\n",
      "Rule:  63\n",
      "========================================================================================\n",
      "('Mid-level employee',)  ==>  ('HTML CSS Java Script',)\n",
      "Support:  0.2782340862422998\n",
      "Confidence:  0.5103578154425612\n",
      "Lift:  1.0062520490709608 \n",
      "\n",
      "Rule:  64\n",
      "========================================================================================\n",
      "('HTML CSS Java Script',)  ==>  ('Mid-level employee',)\n",
      "Support:  0.2782340862422998\n",
      "Confidence:  0.5485829959514169\n",
      "Lift:  1.0062520490709606 \n",
      "\n",
      "Rule:  65\n",
      "========================================================================================\n",
      "('Female',)  ==>  ('Mid-level employee',)\n",
      "Support:  0.2669404517453799\n",
      "Confidence:  0.5485232067510549\n",
      "Lift:  1.0061423792382815 \n",
      "\n",
      "Rule:  66\n",
      "========================================================================================\n",
      "('Mid-level employee',)  ==>  ('Female',)\n",
      "Support:  0.2669404517453799\n",
      "Confidence:  0.4896421845574388\n",
      "Lift:  1.0061423792382813 \n",
      "\n",
      "Rule:  67\n",
      "========================================================================================\n",
      "('HTML CSS Java Script',)  ==>  ('Male',)\n",
      "Support:  0.2618069815195072\n",
      "Confidence:  0.5161943319838057\n",
      "Lift:  1.0055465587044536 \n",
      "\n",
      "Rule:  68\n",
      "========================================================================================\n",
      "('Male',)  ==>  ('HTML CSS Java Script',)\n",
      "Support:  0.2618069815195072\n",
      "Confidence:  0.5100000000000001\n",
      "Lift:  1.0055465587044536 \n",
      "\n",
      "Rule:  69\n",
      "========================================================================================\n",
      "('.Net',)  ==>  ('HTML CSS Java Script',)\n",
      "Support:  0.2433264887063655\n",
      "Confidence:  0.5096774193548387\n",
      "Lift:  1.0049105393757345 \n",
      "\n",
      "Rule:  70\n",
      "========================================================================================\n",
      "('HTML CSS Java Script',)  ==>  ('.Net',)\n",
      "Support:  0.2433264887063655\n",
      "Confidence:  0.4797570850202429\n",
      "Lift:  1.0049105393757345 \n",
      "\n",
      "Rule:  71\n",
      "========================================================================================\n",
      "('Male',)  ==>  ('Member of professional organizations',)\n",
      "Support:  0.25051334702258726\n",
      "Confidence:  0.48800000000000004\n",
      "Lift:  1.0048879492600424 \n",
      "\n",
      "Rule:  72\n",
      "========================================================================================\n",
      "('Member of professional organizations',)  ==>  ('Male',)\n",
      "Support:  0.25051334702258726\n",
      "Confidence:  0.5158562367864693\n",
      "Lift:  1.0048879492600422 \n",
      "\n",
      "Rule:  73\n",
      "========================================================================================\n",
      "('Female',)  ==>  ('Old in current Dept.',)\n",
      "Support:  0.3326488706365503\n",
      "Confidence:  0.6835443037974683\n",
      "Lift:  1.0041812245833095 \n",
      "\n",
      "Rule:  74\n",
      "========================================================================================\n",
      "('Old in current Dept.',)  ==>  ('Female',)\n",
      "Support:  0.3326488706365503\n",
      "Confidence:  0.48868778280542985\n",
      "Lift:  1.0041812245833095 \n",
      "\n",
      "Rule:  75\n",
      "========================================================================================\n",
      "('Communicative',)  ==>  ('Member of professional organizations',)\n",
      "Support:  0.25256673511293637\n",
      "Confidence:  0.4871287128712872\n",
      "Lift:  1.0030937977518684 \n",
      "\n",
      "Rule:  76\n",
      "========================================================================================\n",
      "('Member of professional organizations',)  ==>  ('Communicative',)\n",
      "Support:  0.25256673511293637\n",
      "Confidence:  0.5200845665961945\n",
      "Lift:  1.0030937977518681 \n",
      "\n",
      "Rule:  77\n",
      "========================================================================================\n",
      "('Fast working',)  ==>  ('SQL Server',)\n",
      "Support:  0.23921971252566734\n",
      "Confidence:  0.47454175152749495\n",
      "Lift:  1.0026109891275057 \n",
      "\n",
      "Rule:  78\n",
      "========================================================================================\n",
      "('SQL Server',)  ==>  ('Fast working',)\n",
      "Support:  0.23921971252566734\n",
      "Confidence:  0.5054229934924078\n",
      "Lift:  1.0026109891275057 \n",
      "\n",
      "Rule:  79\n",
      "========================================================================================\n",
      "('HTML CSS Java Script',)  ==>  ('PHP mySQL',)\n",
      "Support:  0.24127310061601642\n",
      "Confidence:  0.4757085020242915\n",
      "Lift:  1.0007345161374943 \n",
      "\n",
      "Rule:  80\n",
      "========================================================================================\n",
      "('PHP mySQL',)  ==>  ('HTML CSS Java Script',)\n",
      "Support:  0.24127310061601642\n",
      "Confidence:  0.5075593952483801\n",
      "Lift:  1.0007345161374943 \n",
      "\n",
      "Rule:  81\n",
      "========================================================================================\n",
      "('Communicative',)  ==>  ('Old in current Dept.',)\n",
      "Support:  0.3531827515400411\n",
      "Confidence:  0.6811881188118812\n",
      "Lift:  1.000719800486836 \n",
      "\n",
      "Rule:  82\n",
      "========================================================================================\n",
      "('Old in current Dept.',)  ==>  ('Communicative',)\n",
      "Support:  0.3531827515400411\n",
      "Confidence:  0.5188536953242836\n",
      "Lift:  1.000719800486836 \n",
      "\n",
      "Rule:  83\n",
      "========================================================================================\n",
      "('Team leader',)  ==>  ('SQL Server',)\n",
      "Support:  0.23921971252566734\n",
      "Confidence:  0.47357723577235766\n",
      "Lift:  1.0005731619138316 \n",
      "\n",
      "Rule:  84\n",
      "========================================================================================\n",
      "('SQL Server',)  ==>  ('Team leader',)\n",
      "Support:  0.23921971252566734\n",
      "Confidence:  0.5054229934924078\n",
      "Lift:  1.0005731619138316 \n",
      "\n",
      "Rule:  85\n",
      "========================================================================================\n",
      "('Team leader',)  ==>  ('PHP mySQL',)\n",
      "Support:  0.2402464065708419\n",
      "Confidence:  0.47560975609756095\n",
      "Lift:  1.0005267871253225 \n",
      "\n",
      "Rule:  86\n",
      "========================================================================================\n",
      "('PHP mySQL',)  ==>  ('Team leader',)\n",
      "Support:  0.2402464065708419\n",
      "Confidence:  0.5053995680345572\n",
      "Lift:  1.0005267871253225 \n",
      "\n"
     ],
     "output_type":"stream"
    }
   ],
   "metadata":{
    "datalore":{
     "type":"CODE",
     "hide_input_from_viewers":false,
     "hide_output_from_viewers":false,
     "node_id":"YliDmrn2OE7bgD9L3mDTwO"
    }
   }
  }
 ],
 "metadata":{
  "datalore":{
   "version":1,
   "computation_mode":"JUPYTER",
   "package_manager":"pip",
   "base_environment":"default",
   "packages":[
    
   ]
  }
 },
 "nbformat":4,
 "nbformat_minor":4
}